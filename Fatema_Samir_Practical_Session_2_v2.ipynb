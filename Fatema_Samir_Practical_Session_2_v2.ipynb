{
  "cells": [
    {
      "cell_type": "markdown",
      "metadata": {
        "id": "view-in-github",
        "colab_type": "text"
      },
      "source": [
        "<a href=\"https://colab.research.google.com/github/FatemaSamir/pyspark/blob/main/Fatema_Samir_Practical_Session_2_v2.ipynb\" target=\"_parent\"><img src=\"https://colab.research.google.com/assets/colab-badge.svg\" alt=\"Open In Colab\"/></a>"
      ]
    },
    {
      "cell_type": "markdown",
      "metadata": {
        "id": "_zQJUkFO6PrW"
      },
      "source": [
        "# Lab 2 PySpark:\n",
        "\n",
        "### Machine Learning"
      ]
    },
    {
      "cell_type": "markdown",
      "metadata": {
        "id": "O7QrGhe16Pra"
      },
      "source": [
        "#### But first, let's do some SQL :)"
      ]
    },
    {
      "cell_type": "markdown",
      "metadata": {
        "id": "OC3qswpX6Prb"
      },
      "source": [
        "**First, install and import PySPark and SparkSession**"
      ]
    },
    {
      "cell_type": "code",
      "execution_count": null,
      "metadata": {
        "colab": {
          "base_uri": "https://localhost:8080/"
        },
        "id": "U-GkV5aK6Prc",
        "outputId": "76e2427c-d2f1-4b36-ada9-309fc72f9b9a"
      },
      "outputs": [
        {
          "output_type": "stream",
          "name": "stdout",
          "text": [
            "Looking in indexes: https://pypi.org/simple, https://us-python.pkg.dev/colab-wheels/public/simple/\n",
            "Collecting pyspark\n",
            "  Downloading pyspark-3.2.1.tar.gz (281.4 MB)\n",
            "\u001b[K     |████████████████████████████████| 281.4 MB 33 kB/s \n",
            "\u001b[?25hCollecting py4j==0.10.9.3\n",
            "  Downloading py4j-0.10.9.3-py2.py3-none-any.whl (198 kB)\n",
            "\u001b[K     |████████████████████████████████| 198 kB 51.9 MB/s \n",
            "\u001b[?25hBuilding wheels for collected packages: pyspark\n",
            "  Building wheel for pyspark (setup.py) ... \u001b[?25l\u001b[?25hdone\n",
            "  Created wheel for pyspark: filename=pyspark-3.2.1-py2.py3-none-any.whl size=281853642 sha256=d45c44e1bdcabcce0e9a6156ccee093ec753b0fdcd8bbf65fc57f0cdc97058d0\n",
            "  Stored in directory: /root/.cache/pip/wheels/9f/f5/07/7cd8017084dce4e93e84e92efd1e1d5334db05f2e83bcef74f\n",
            "Successfully built pyspark\n",
            "Installing collected packages: py4j, pyspark\n",
            "Successfully installed py4j-0.10.9.3 pyspark-3.2.1\n"
          ]
        }
      ],
      "source": [
        "!pip install pyspark"
      ]
    },
    {
      "cell_type": "code",
      "execution_count": null,
      "metadata": {
        "id": "P6xdcznA6Prc"
      },
      "outputs": [],
      "source": [
        "from pyspark.sql import SparkSession \n",
        "import pyspark.sql.functions as fn"
      ]
    },
    {
      "cell_type": "markdown",
      "metadata": {
        "id": "kk70CJ5J6Prd"
      },
      "source": [
        "**Now, download the dataset**"
      ]
    },
    {
      "cell_type": "code",
      "execution_count": null,
      "metadata": {
        "colab": {
          "base_uri": "https://localhost:8080/"
        },
        "id": "dpJOIZJR6Prd",
        "outputId": "8bae5c79-b87a-4611-c196-bee7aacd4a83"
      },
      "outputs": [
        {
          "output_type": "stream",
          "name": "stdout",
          "text": [
            "Downloading...\n",
            "From: https://drive.google.com/uc?id=1PB6wBDVTM_eocxOyi0lWlLBQOlH0rLe_\n",
            "To: /content/PatientInfo.csv\n",
            "\r  0% 0.00/489k [00:00<?, ?B/s]\r100% 489k/489k [00:00<00:00, 72.3MB/s]\n"
          ]
        }
      ],
      "source": [
        "!gdown https://drive.google.com/uc?id=1PB6wBDVTM_eocxOyi0lWlLBQOlH0rLe_ -O PatientInfo.csv"
      ]
    },
    {
      "cell_type": "markdown",
      "metadata": {
        "id": "avoWBBhY6Pre"
      },
      "source": [
        "**Create a SparkSession object and name the app \"Lab2\"**"
      ]
    },
    {
      "cell_type": "code",
      "execution_count": null,
      "metadata": {
        "id": "Cbj1iq8s6Prf"
      },
      "outputs": [],
      "source": [
        "spark = SparkSession.builder.appName('Lab2').getOrCreate() # intery point\n",
        "sc = spark.sparkContext"
      ]
    },
    {
      "cell_type": "markdown",
      "metadata": {
        "id": "dDz0DcXf6Prg"
      },
      "source": [
        "**1. Read the file PatientInfo.csv into a dataframe**"
      ]
    },
    {
      "cell_type": "code",
      "execution_count": null,
      "metadata": {
        "id": "toHgJSdo6Prg"
      },
      "outputs": [],
      "source": [
        "df = spark.read.csv('/content/PatientInfo.csv',header=True)"
      ]
    },
    {
      "cell_type": "code",
      "source": [
        "df.printSchema()"
      ],
      "metadata": {
        "colab": {
          "base_uri": "https://localhost:8080/"
        },
        "id": "b2TL9vGL7iIZ",
        "outputId": "43dfbb35-ad16-443c-b93a-b28f08b37c28"
      },
      "execution_count": null,
      "outputs": [
        {
          "output_type": "stream",
          "name": "stdout",
          "text": [
            "root\n",
            " |-- patient_id: string (nullable = true)\n",
            " |-- sex: string (nullable = true)\n",
            " |-- age: string (nullable = true)\n",
            " |-- country: string (nullable = true)\n",
            " |-- province: string (nullable = true)\n",
            " |-- city: string (nullable = true)\n",
            " |-- infection_case: string (nullable = true)\n",
            " |-- infected_by: string (nullable = true)\n",
            " |-- contact_number: string (nullable = true)\n",
            " |-- symptom_onset_date: string (nullable = true)\n",
            " |-- confirmed_date: string (nullable = true)\n",
            " |-- released_date: string (nullable = true)\n",
            " |-- deceased_date: string (nullable = true)\n",
            " |-- state: string (nullable = true)\n",
            "\n"
          ]
        }
      ]
    },
    {
      "cell_type": "markdown",
      "metadata": {
        "id": "B1e89FTL6Prh"
      },
      "source": [
        "**Show the first 5 lines of the dataframe**"
      ]
    },
    {
      "cell_type": "code",
      "execution_count": null,
      "metadata": {
        "colab": {
          "base_uri": "https://localhost:8080/"
        },
        "id": "dP6Yk1dH6Prh",
        "outputId": "75e27958-4e96-4091-f413-2344975e0299"
      },
      "outputs": [
        {
          "output_type": "stream",
          "name": "stdout",
          "text": [
            "+----------+------+---+-------+--------+-----------+--------------------+-----------+--------------+------------------+--------------+-------------+-------------+--------+\n",
            "|patient_id|   sex|age|country|province|       city|      infection_case|infected_by|contact_number|symptom_onset_date|confirmed_date|released_date|deceased_date|   state|\n",
            "+----------+------+---+-------+--------+-----------+--------------------+-----------+--------------+------------------+--------------+-------------+-------------+--------+\n",
            "|1000000001|  male|50s|  Korea|   Seoul| Gangseo-gu|     overseas inflow|       null|            75|        2020-01-22|    2020-01-23|   2020-02-05|         null|released|\n",
            "|1000000002|  male|30s|  Korea|   Seoul|Jungnang-gu|     overseas inflow|       null|            31|              null|    2020-01-30|   2020-03-02|         null|released|\n",
            "|1000000003|  male|50s|  Korea|   Seoul|  Jongno-gu|contact with patient| 2002000001|            17|              null|    2020-01-30|   2020-02-19|         null|released|\n",
            "|1000000004|  male|20s|  Korea|   Seoul|    Mapo-gu|     overseas inflow|       null|             9|        2020-01-26|    2020-01-30|   2020-02-15|         null|released|\n",
            "|1000000005|female|20s|  Korea|   Seoul|Seongbuk-gu|contact with patient| 1000000002|             2|              null|    2020-01-31|   2020-02-24|         null|released|\n",
            "+----------+------+---+-------+--------+-----------+--------------------+-----------+--------------+------------------+--------------+-------------+-------------+--------+\n",
            "only showing top 5 rows\n",
            "\n"
          ]
        }
      ],
      "source": [
        "df.show(5)"
      ]
    },
    {
      "cell_type": "markdown",
      "metadata": {
        "id": "O3o2XFn56Pri"
      },
      "source": [
        "**Now do the same but using SQL select statement**"
      ]
    },
    {
      "cell_type": "markdown",
      "metadata": {
        "id": "XyJom43y6Pri"
      },
      "source": [
        "1. Create a temporary view (table) called patients"
      ]
    },
    {
      "cell_type": "code",
      "execution_count": null,
      "metadata": {
        "id": "N5AqD-pB6Pri"
      },
      "outputs": [],
      "source": [
        "df.createOrReplaceTempView(\"patients\")"
      ]
    },
    {
      "cell_type": "markdown",
      "metadata": {
        "id": "UIr82PNb6Prj"
      },
      "source": [
        "2. Use SELECT statement to select all columns from the dataframe"
      ]
    },
    {
      "cell_type": "code",
      "source": [
        "df2 = spark.sql('select * from patients')\n",
        "df2.show()"
      ],
      "metadata": {
        "colab": {
          "base_uri": "https://localhost:8080/"
        },
        "id": "Gx4C01_B88O2",
        "outputId": "6c899a3f-5fa6-4015-98eb-2dff19ceaaba"
      },
      "execution_count": null,
      "outputs": [
        {
          "output_type": "stream",
          "name": "stdout",
          "text": [
            "+----------+------+---+-------+--------+------------+--------------------+-----------+--------------+------------------+--------------+-------------+-------------+--------+\n",
            "|patient_id|   sex|age|country|province|        city|      infection_case|infected_by|contact_number|symptom_onset_date|confirmed_date|released_date|deceased_date|   state|\n",
            "+----------+------+---+-------+--------+------------+--------------------+-----------+--------------+------------------+--------------+-------------+-------------+--------+\n",
            "|1000000001|  male|50s|  Korea|   Seoul|  Gangseo-gu|     overseas inflow|       null|            75|        2020-01-22|    2020-01-23|   2020-02-05|         null|released|\n",
            "|1000000002|  male|30s|  Korea|   Seoul| Jungnang-gu|     overseas inflow|       null|            31|              null|    2020-01-30|   2020-03-02|         null|released|\n",
            "|1000000003|  male|50s|  Korea|   Seoul|   Jongno-gu|contact with patient| 2002000001|            17|              null|    2020-01-30|   2020-02-19|         null|released|\n",
            "|1000000004|  male|20s|  Korea|   Seoul|     Mapo-gu|     overseas inflow|       null|             9|        2020-01-26|    2020-01-30|   2020-02-15|         null|released|\n",
            "|1000000005|female|20s|  Korea|   Seoul| Seongbuk-gu|contact with patient| 1000000002|             2|              null|    2020-01-31|   2020-02-24|         null|released|\n",
            "|1000000006|female|50s|  Korea|   Seoul|   Jongno-gu|contact with patient| 1000000003|            43|              null|    2020-01-31|   2020-02-19|         null|released|\n",
            "|1000000007|  male|20s|  Korea|   Seoul|   Jongno-gu|contact with patient| 1000000003|             0|              null|    2020-01-31|   2020-02-10|         null|released|\n",
            "|1000000008|  male|20s|  Korea|   Seoul|         etc|     overseas inflow|       null|             0|              null|    2020-02-02|   2020-02-24|         null|released|\n",
            "|1000000009|  male|30s|  Korea|   Seoul|   Songpa-gu|     overseas inflow|       null|            68|              null|    2020-02-05|   2020-02-21|         null|released|\n",
            "|1000000010|female|60s|  Korea|   Seoul| Seongbuk-gu|contact with patient| 1000000003|             6|              null|    2020-02-05|   2020-02-29|         null|released|\n",
            "|1000000011|female|50s|  China|   Seoul|Seodaemun-gu|     overseas inflow|       null|            23|              null|    2020-02-06|   2020-02-29|         null|released|\n",
            "|1000000012|  male|20s|  Korea|   Seoul|         etc|     overseas inflow|       null|             0|              null|    2020-02-07|   2020-02-27|         null|released|\n",
            "|1000000013|  male|80s|  Korea|   Seoul|   Jongno-gu|contact with patient| 1000000017|           117|              null|    2020-02-16|         null|         null|deceased|\n",
            "|1000000014|female|60s|  Korea|   Seoul|   Jongno-gu|contact with patient| 1000000013|            27|        2020-02-06|    2020-02-16|   2020-03-12|         null|released|\n",
            "|1000000015|  male|70s|  Korea|   Seoul|Seongdong-gu|    Seongdong-gu APT|       null|             8|        2020-02-11|    2020-02-19|         null|         null|released|\n",
            "|1000000016|  male|70s|  Korea|   Seoul|   Jongno-gu|contact with patient| 1000000017|          null|              null|    2020-02-19|   2020-03-11|         null|released|\n",
            "|1000000017|  male|70s|  Korea|   Seoul|   Jongno-gu|contact with patient| 1000000003|          null|              null|    2020-02-20|   2020-03-01|         null|released|\n",
            "|1000000018|  male|20s|  Korea|   Seoul|         etc|                 etc|       null|          null|              null|    2020-02-20|         null|         null|released|\n",
            "|1000000019|female|70s|  Korea|   Seoul|   Jongno-gu|contact with patient| 1000000021|          null|              null|    2020-02-20|   2020-03-08|         null|released|\n",
            "|1000000020|female|70s|  Korea|   Seoul|Seongdong-gu|    Seongdong-gu APT| 1000000015|          null|              null|    2020-02-20|         null|         null|released|\n",
            "+----------+------+---+-------+--------+------------+--------------------+-----------+--------------+------------------+--------------+-------------+-------------+--------+\n",
            "only showing top 20 rows\n",
            "\n"
          ]
        }
      ]
    },
    {
      "cell_type": "code",
      "execution_count": null,
      "metadata": {
        "colab": {
          "base_uri": "https://localhost:8080/"
        },
        "id": "Ml-00Koo6Prj",
        "outputId": "7d6a88b8-5033-4d16-adce-94a9a2c1245a"
      },
      "outputs": [
        {
          "output_type": "stream",
          "name": "stdout",
          "text": [
            "+----------+------+---+-------+--------+------------+--------------------+-----------+--------------+------------------+--------------+-------------+-------------+--------+\n",
            "|patient_id|   sex|age|country|province|        city|      infection_case|infected_by|contact_number|symptom_onset_date|confirmed_date|released_date|deceased_date|   state|\n",
            "+----------+------+---+-------+--------+------------+--------------------+-----------+--------------+------------------+--------------+-------------+-------------+--------+\n",
            "|1000000001|  male|50s|  Korea|   Seoul|  Gangseo-gu|     overseas inflow|       null|            75|        2020-01-22|    2020-01-23|   2020-02-05|         null|released|\n",
            "|1000000002|  male|30s|  Korea|   Seoul| Jungnang-gu|     overseas inflow|       null|            31|              null|    2020-01-30|   2020-03-02|         null|released|\n",
            "|1000000003|  male|50s|  Korea|   Seoul|   Jongno-gu|contact with patient| 2002000001|            17|              null|    2020-01-30|   2020-02-19|         null|released|\n",
            "|1000000004|  male|20s|  Korea|   Seoul|     Mapo-gu|     overseas inflow|       null|             9|        2020-01-26|    2020-01-30|   2020-02-15|         null|released|\n",
            "|1000000005|female|20s|  Korea|   Seoul| Seongbuk-gu|contact with patient| 1000000002|             2|              null|    2020-01-31|   2020-02-24|         null|released|\n",
            "|1000000006|female|50s|  Korea|   Seoul|   Jongno-gu|contact with patient| 1000000003|            43|              null|    2020-01-31|   2020-02-19|         null|released|\n",
            "|1000000007|  male|20s|  Korea|   Seoul|   Jongno-gu|contact with patient| 1000000003|             0|              null|    2020-01-31|   2020-02-10|         null|released|\n",
            "|1000000008|  male|20s|  Korea|   Seoul|         etc|     overseas inflow|       null|             0|              null|    2020-02-02|   2020-02-24|         null|released|\n",
            "|1000000009|  male|30s|  Korea|   Seoul|   Songpa-gu|     overseas inflow|       null|            68|              null|    2020-02-05|   2020-02-21|         null|released|\n",
            "|1000000010|female|60s|  Korea|   Seoul| Seongbuk-gu|contact with patient| 1000000003|             6|              null|    2020-02-05|   2020-02-29|         null|released|\n",
            "|1000000011|female|50s|  China|   Seoul|Seodaemun-gu|     overseas inflow|       null|            23|              null|    2020-02-06|   2020-02-29|         null|released|\n",
            "|1000000012|  male|20s|  Korea|   Seoul|         etc|     overseas inflow|       null|             0|              null|    2020-02-07|   2020-02-27|         null|released|\n",
            "|1000000013|  male|80s|  Korea|   Seoul|   Jongno-gu|contact with patient| 1000000017|           117|              null|    2020-02-16|         null|         null|deceased|\n",
            "|1000000014|female|60s|  Korea|   Seoul|   Jongno-gu|contact with patient| 1000000013|            27|        2020-02-06|    2020-02-16|   2020-03-12|         null|released|\n",
            "|1000000015|  male|70s|  Korea|   Seoul|Seongdong-gu|    Seongdong-gu APT|       null|             8|        2020-02-11|    2020-02-19|         null|         null|released|\n",
            "|1000000016|  male|70s|  Korea|   Seoul|   Jongno-gu|contact with patient| 1000000017|          null|              null|    2020-02-19|   2020-03-11|         null|released|\n",
            "|1000000017|  male|70s|  Korea|   Seoul|   Jongno-gu|contact with patient| 1000000003|          null|              null|    2020-02-20|   2020-03-01|         null|released|\n",
            "|1000000018|  male|20s|  Korea|   Seoul|         etc|                 etc|       null|          null|              null|    2020-02-20|         null|         null|released|\n",
            "|1000000019|female|70s|  Korea|   Seoul|   Jongno-gu|contact with patient| 1000000021|          null|              null|    2020-02-20|   2020-03-08|         null|released|\n",
            "|1000000020|female|70s|  Korea|   Seoul|Seongdong-gu|    Seongdong-gu APT| 1000000015|          null|              null|    2020-02-20|         null|         null|released|\n",
            "+----------+------+---+-------+--------+------------+--------------------+-----------+--------------+------------------+--------------+-------------+-------------+--------+\n",
            "only showing top 20 rows\n",
            "\n"
          ]
        }
      ],
      "source": [
        "df.select('*').show()"
      ]
    },
    {
      "cell_type": "markdown",
      "metadata": {
        "id": "U50Rz5n26Prj"
      },
      "source": [
        "3. Limit the output to only 5 rows *using SQL commands*"
      ]
    },
    {
      "cell_type": "code",
      "execution_count": null,
      "metadata": {
        "colab": {
          "base_uri": "https://localhost:8080/"
        },
        "id": "jRKxGJWV6Prj",
        "outputId": "30adad89-65bc-4596-a442-aa2f6b82caaa"
      },
      "outputs": [
        {
          "output_type": "stream",
          "name": "stdout",
          "text": [
            "+----------+------+---+-------+--------+-----------+--------------------+-----------+--------------+------------------+--------------+-------------+-------------+--------+\n",
            "|patient_id|   sex|age|country|province|       city|      infection_case|infected_by|contact_number|symptom_onset_date|confirmed_date|released_date|deceased_date|   state|\n",
            "+----------+------+---+-------+--------+-----------+--------------------+-----------+--------------+------------------+--------------+-------------+-------------+--------+\n",
            "|1000000001|  male|50s|  Korea|   Seoul| Gangseo-gu|     overseas inflow|       null|            75|        2020-01-22|    2020-01-23|   2020-02-05|         null|released|\n",
            "|1000000002|  male|30s|  Korea|   Seoul|Jungnang-gu|     overseas inflow|       null|            31|              null|    2020-01-30|   2020-03-02|         null|released|\n",
            "|1000000003|  male|50s|  Korea|   Seoul|  Jongno-gu|contact with patient| 2002000001|            17|              null|    2020-01-30|   2020-02-19|         null|released|\n",
            "|1000000004|  male|20s|  Korea|   Seoul|    Mapo-gu|     overseas inflow|       null|             9|        2020-01-26|    2020-01-30|   2020-02-15|         null|released|\n",
            "|1000000005|female|20s|  Korea|   Seoul|Seongbuk-gu|contact with patient| 1000000002|             2|              null|    2020-01-31|   2020-02-24|         null|released|\n",
            "+----------+------+---+-------+--------+-----------+--------------------+-----------+--------------+------------------+--------------+-------------+-------------+--------+\n",
            "\n"
          ]
        }
      ],
      "source": [
        "df3 = spark.sql('select * from patients limit 5')\n",
        "df3.show()"
      ]
    },
    {
      "cell_type": "markdown",
      "metadata": {
        "id": "vRENTOAr6Prk"
      },
      "source": [
        "4. Select the count of males and females in the dataset"
      ]
    },
    {
      "cell_type": "code",
      "execution_count": null,
      "metadata": {
        "colab": {
          "base_uri": "https://localhost:8080/"
        },
        "id": "HYX4YM9R6Prk",
        "outputId": "3e1fef3f-bb7a-4680-fce6-5ff773c16bd4"
      },
      "outputs": [
        {
          "output_type": "stream",
          "name": "stdout",
          "text": [
            "+----------+\n",
            "|count_male|\n",
            "+----------+\n",
            "|      1825|\n",
            "+----------+\n",
            "\n"
          ]
        }
      ],
      "source": [
        "spark.sql('select count(sex) as count_male from patients where sex = \"male\"').show()"
      ]
    },
    {
      "cell_type": "code",
      "source": [
        "spark.sql('select count(sex) as count_female from patients where sex = \"female\"').show()"
      ],
      "metadata": {
        "colab": {
          "base_uri": "https://localhost:8080/"
        },
        "id": "14mtawYL_KfK",
        "outputId": "ec7d000f-89d6-4678-8240-ee6f8ff57778"
      },
      "execution_count": null,
      "outputs": [
        {
          "output_type": "stream",
          "name": "stdout",
          "text": [
            "+------------+\n",
            "|count_female|\n",
            "+------------+\n",
            "|        2218|\n",
            "+------------+\n",
            "\n"
          ]
        }
      ]
    },
    {
      "cell_type": "code",
      "source": [
        "spark.sql('select count(sex) ,sex from patients GROUP BY sex ').show()"
      ],
      "metadata": {
        "colab": {
          "base_uri": "https://localhost:8080/"
        },
        "id": "5YAedKZEE9H3",
        "outputId": "2e0a8280-2952-4b7a-b199-0cd97519dfe7"
      },
      "execution_count": null,
      "outputs": [
        {
          "output_type": "stream",
          "name": "stdout",
          "text": [
            "+----------+------+\n",
            "|count(sex)|   sex|\n",
            "+----------+------+\n",
            "|         0|  null|\n",
            "|      2218|female|\n",
            "|      1825|  male|\n",
            "+----------+------+\n",
            "\n"
          ]
        }
      ]
    },
    {
      "cell_type": "markdown",
      "metadata": {
        "id": "aIh4y_kt6Prk"
      },
      "source": [
        "5. Select the count of males and females *as percentage* (how many percent of the data are males and how many are females?)"
      ]
    },
    {
      "cell_type": "code",
      "execution_count": null,
      "metadata": {
        "colab": {
          "base_uri": "https://localhost:8080/"
        },
        "id": "LFTMcgdP6Prk",
        "outputId": "4d91ee3f-7a4d-467a-fde0-1cb08efd5179"
      },
      "outputs": [
        {
          "output_type": "stream",
          "name": "stdout",
          "text": [
            "+-----------------+\n",
            "|  percentage_male|\n",
            "+-----------------+\n",
            "|45.13974771209498|\n",
            "+-----------------+\n",
            "\n"
          ]
        }
      ],
      "source": [
        "spark.sql('select (count(sex)/(select count(sex) from patients))*100 as percentage_male from patients where sex = \"male\"').show()"
      ]
    },
    {
      "cell_type": "code",
      "source": [
        "spark.sql('select (count(sex)/(select count(sex) from patients))*100 as percentage_female from patients where sex = \"female\"').show()"
      ],
      "metadata": {
        "colab": {
          "base_uri": "https://localhost:8080/"
        },
        "id": "26sOGlGMBacS",
        "outputId": "12cf9a5d-5d81-4597-8876-9608ae3968ce"
      },
      "execution_count": null,
      "outputs": [
        {
          "output_type": "stream",
          "name": "stdout",
          "text": [
            "+-----------------+\n",
            "|percentage_female|\n",
            "+-----------------+\n",
            "|54.86025228790502|\n",
            "+-----------------+\n",
            "\n"
          ]
        }
      ]
    },
    {
      "cell_type": "code",
      "source": [
        "spark.sql('select count(sex) ,sex from patients GROUP BY sex ').show()"
      ],
      "metadata": {
        "id": "2-Qeawm3HBTR"
      },
      "execution_count": null,
      "outputs": []
    },
    {
      "cell_type": "markdown",
      "metadata": {
        "id": "bpeNpWWE6Prk"
      },
      "source": [
        "6. How many people did survive, and how many didn't?"
      ]
    },
    {
      "cell_type": "code",
      "source": [
        "spark.sql('select DISTINCT state  from patients').show() "
      ],
      "metadata": {
        "colab": {
          "base_uri": "https://localhost:8080/"
        },
        "id": "5-T8f34zCZwL",
        "outputId": "4422e297-c3d2-4b18-cebe-d98aa6f385cf"
      },
      "execution_count": null,
      "outputs": [
        {
          "output_type": "stream",
          "name": "stdout",
          "text": [
            "+--------+\n",
            "|   state|\n",
            "+--------+\n",
            "|isolated|\n",
            "|released|\n",
            "|deceased|\n",
            "+--------+\n",
            "\n"
          ]
        }
      ]
    },
    {
      "cell_type": "code",
      "source": [
        "spark.sql('select count( state ) as survive from patients where state = \"deceased\"').show() # not survive"
      ],
      "metadata": {
        "colab": {
          "base_uri": "https://localhost:8080/"
        },
        "id": "UclRpH_mEHCk",
        "outputId": "7281d2a4-5db4-4c23-8379-a732880f3fc3"
      },
      "execution_count": null,
      "outputs": [
        {
          "output_type": "stream",
          "name": "stdout",
          "text": [
            "+-------+\n",
            "|survive|\n",
            "+-------+\n",
            "|     78|\n",
            "+-------+\n",
            "\n"
          ]
        }
      ]
    },
    {
      "cell_type": "code",
      "execution_count": null,
      "metadata": {
        "colab": {
          "base_uri": "https://localhost:8080/"
        },
        "id": "TaDI3Pg16Prl",
        "outputId": "2bda97e8-2da3-43db-daa9-6b3c3374550f"
      },
      "outputs": [
        {
          "output_type": "stream",
          "name": "stdout",
          "text": [
            "+-----------+\n",
            "|not_survive|\n",
            "+-----------+\n",
            "|       5087|\n",
            "+-----------+\n",
            "\n"
          ]
        }
      ],
      "source": [
        "spark.sql('select count( state ) as not_survive from patients where state !=\"deceased\"').show() # not survive"
      ]
    },
    {
      "cell_type": "code",
      "source": [
        "spark.sql('select (count(sex)/(select count(sex) from patients))*100 ,sex from patients GROUP BY sex ').show()"
      ],
      "metadata": {
        "colab": {
          "base_uri": "https://localhost:8080/"
        },
        "id": "7egEzhy1IOHp",
        "outputId": "c59c1c1e-895d-4796-cc7e-d4c43ff7e47c"
      },
      "execution_count": null,
      "outputs": [
        {
          "output_type": "stream",
          "name": "stdout",
          "text": [
            "+---------------------------------------+------+\n",
            "|((count(sex) / scalarsubquery()) * 100)|   sex|\n",
            "+---------------------------------------+------+\n",
            "|                                    0.0|  null|\n",
            "|                      54.86025228790502|female|\n",
            "|                      45.13974771209498|  male|\n",
            "+---------------------------------------+------+\n",
            "\n"
          ]
        }
      ]
    },
    {
      "cell_type": "markdown",
      "metadata": {
        "id": "UELfViy86Prl"
      },
      "source": [
        "Now, let's perform some preprocessing using SQL:\n",
        "\n",
        "1. Convert *age* column to double after removing the 's' at the end -- *hint: check SUBSTRING method*\n",
        "2. Select only the following columns: `['sex', 'age', 'province', 'state']`\n",
        "3. Store the result of the query in a new dataframe"
      ]
    },
    {
      "cell_type": "code",
      "execution_count": null,
      "metadata": {
        "id": "unK8FgqP6Prl"
      },
      "outputs": [],
      "source": [
        "df_new = spark.sql('select sex, DOUBLE(SUBSTRING(age, 0, 2)) AS age, province, state from patients ')"
      ]
    },
    {
      "cell_type": "markdown",
      "metadata": {
        "id": "9Vjy_ILY6Prl"
      },
      "source": [
        "Now view the new dataframe to make sure everything is alright"
      ]
    },
    {
      "cell_type": "code",
      "execution_count": null,
      "metadata": {
        "colab": {
          "base_uri": "https://localhost:8080/"
        },
        "id": "p25anzVk6Prl",
        "outputId": "ecd44e39-e52b-4c2e-fc06-9c414c37094a"
      },
      "outputs": [
        {
          "output_type": "stream",
          "name": "stdout",
          "text": [
            "+------+----+--------+--------+\n",
            "|   sex| age|province|   state|\n",
            "+------+----+--------+--------+\n",
            "|  male|50.0|   Seoul|released|\n",
            "|  male|30.0|   Seoul|released|\n",
            "|  male|50.0|   Seoul|released|\n",
            "|  male|20.0|   Seoul|released|\n",
            "|female|20.0|   Seoul|released|\n",
            "|female|50.0|   Seoul|released|\n",
            "|  male|20.0|   Seoul|released|\n",
            "|  male|20.0|   Seoul|released|\n",
            "|  male|30.0|   Seoul|released|\n",
            "|female|60.0|   Seoul|released|\n",
            "|female|50.0|   Seoul|released|\n",
            "|  male|20.0|   Seoul|released|\n",
            "|  male|80.0|   Seoul|deceased|\n",
            "|female|60.0|   Seoul|released|\n",
            "|  male|70.0|   Seoul|released|\n",
            "|  male|70.0|   Seoul|released|\n",
            "|  male|70.0|   Seoul|released|\n",
            "|  male|20.0|   Seoul|released|\n",
            "|female|70.0|   Seoul|released|\n",
            "|female|70.0|   Seoul|released|\n",
            "+------+----+--------+--------+\n",
            "only showing top 20 rows\n",
            "\n"
          ]
        }
      ],
      "source": [
        "df_new.show()"
      ]
    },
    {
      "cell_type": "markdown",
      "metadata": {
        "id": "5-VvlKFL6Prl"
      },
      "source": [
        "**Now, let's get back to spark operations**\n",
        "\n",
        "Please copy the following operations from your solution in Lab 1\n",
        "___"
      ]
    },
    {
      "cell_type": "markdown",
      "metadata": {
        "id": "Dwqa5-Hr6Prm"
      },
      "source": [
        "Add a **is_dead** column if patient state is not released then it should yield true, else then False"
      ]
    },
    {
      "cell_type": "code",
      "execution_count": null,
      "metadata": {
        "id": "pMVCaugc6Prm"
      },
      "outputs": [],
      "source": [
        "from pyspark.sql.types import IntegerType\n",
        "def isdead(sts):\n",
        "\n",
        "    if sts=='released':\n",
        "      return 1\n",
        "    else:\n",
        "      return 0\n",
        "   \n",
        "fun1 = fn.udf(isdead,IntegerType())\n",
        "df_new_2 = df_new.withColumn('isdead',fun1('state'))"
      ]
    },
    {
      "cell_type": "code",
      "execution_count": null,
      "metadata": {
        "colab": {
          "base_uri": "https://localhost:8080/"
        },
        "id": "f6m9NL0C6Prm",
        "outputId": "39bf3e23-8bee-440e-f86d-55677b360c0d"
      },
      "outputs": [
        {
          "output_type": "stream",
          "name": "stdout",
          "text": [
            "+------+----+--------+--------+------+\n",
            "|   sex| age|province|   state|isdead|\n",
            "+------+----+--------+--------+------+\n",
            "|  male|50.0|   Seoul|released|     1|\n",
            "|  male|30.0|   Seoul|released|     1|\n",
            "|  male|50.0|   Seoul|released|     1|\n",
            "|  male|20.0|   Seoul|released|     1|\n",
            "|female|20.0|   Seoul|released|     1|\n",
            "|female|50.0|   Seoul|released|     1|\n",
            "|  male|20.0|   Seoul|released|     1|\n",
            "|  male|20.0|   Seoul|released|     1|\n",
            "|  male|30.0|   Seoul|released|     1|\n",
            "|female|60.0|   Seoul|released|     1|\n",
            "|female|50.0|   Seoul|released|     1|\n",
            "|  male|20.0|   Seoul|released|     1|\n",
            "|  male|80.0|   Seoul|deceased|     0|\n",
            "|female|60.0|   Seoul|released|     1|\n",
            "|  male|70.0|   Seoul|released|     1|\n",
            "|  male|70.0|   Seoul|released|     1|\n",
            "|  male|70.0|   Seoul|released|     1|\n",
            "|  male|20.0|   Seoul|released|     1|\n",
            "|female|70.0|   Seoul|released|     1|\n",
            "|female|70.0|   Seoul|released|     1|\n",
            "+------+----+--------+--------+------+\n",
            "only showing top 20 rows\n",
            "\n"
          ]
        }
      ],
      "source": [
        "df_new_2.show()"
      ]
    },
    {
      "cell_type": "markdown",
      "metadata": {
        "id": "zhF6D7M76Prm"
      },
      "source": [
        "**Please split the data into train and test dataframes**\n",
        "\n",
        "*Ratio: 80:20 - Seed=42*"
      ]
    },
    {
      "cell_type": "code",
      "execution_count": null,
      "metadata": {
        "id": "J2DBj2NT6Prn"
      },
      "outputs": [],
      "source": [
        "trainDF, testDF = df_new_2.randomSplit([0.8,0.2],seed=42)"
      ]
    },
    {
      "cell_type": "code",
      "execution_count": null,
      "metadata": {
        "colab": {
          "base_uri": "https://localhost:8080/"
        },
        "id": "L2IC_0Qc6Prn",
        "outputId": "b6111ab2-eb03-4282-d918-76a034ab501f"
      },
      "outputs": [
        {
          "output_type": "stream",
          "name": "stdout",
          "text": [
            "+----+----+-----------+--------+------+\n",
            "| sex| age|   province|   state|isdead|\n",
            "+----+----+-----------+--------+------+\n",
            "|null|null|      Busan|isolated|     0|\n",
            "|null|null|      Busan|isolated|     0|\n",
            "|null|null|Gyeonggi-do|isolated|     0|\n",
            "|null|null|Gyeonggi-do|isolated|     0|\n",
            "|null|null|Gyeonggi-do|isolated|     0|\n",
            "|null|null|Gyeonggi-do|isolated|     0|\n",
            "|null|null|Gyeonggi-do|isolated|     0|\n",
            "|null|null|Gyeonggi-do|isolated|     0|\n",
            "|null|null|Gyeonggi-do|isolated|     0|\n",
            "|null|null|Gyeonggi-do|isolated|     0|\n",
            "+----+----+-----------+--------+------+\n",
            "only showing top 10 rows\n",
            "\n"
          ]
        }
      ],
      "source": [
        "trainDF.show(10)"
      ]
    },
    {
      "cell_type": "code",
      "execution_count": null,
      "metadata": {
        "colab": {
          "base_uri": "https://localhost:8080/"
        },
        "id": "SplSmqUb6Prn",
        "outputId": "2c445e59-eef0-4d1f-b8ba-4298b3b2d283"
      },
      "outputs": [
        {
          "output_type": "stream",
          "name": "stdout",
          "text": [
            "+----+----+-----------+--------+------+\n",
            "| sex| age|   province|   state|isdead|\n",
            "+----+----+-----------+--------+------+\n",
            "|null|null|Gyeonggi-do|isolated|     0|\n",
            "|null|null|Gyeonggi-do|isolated|     0|\n",
            "|null|null|Gyeonggi-do|isolated|     0|\n",
            "|null|null|Gyeonggi-do|isolated|     0|\n",
            "|null|null|Gyeonggi-do|isolated|     0|\n",
            "+----+----+-----------+--------+------+\n",
            "only showing top 5 rows\n",
            "\n"
          ]
        }
      ],
      "source": [
        "testDF.show(5)"
      ]
    },
    {
      "cell_type": "markdown",
      "metadata": {
        "id": "JvFslfyn6Prn"
      },
      "source": [
        "**Now, let's import RandomForestClassifier and start our ML pipeline**"
      ]
    },
    {
      "cell_type": "code",
      "source": [
        "from pyspark.ml.feature import StringIndexer, OneHotEncoder, VectorAssembler, Imputer\n",
        "from pyspark.ml.classification import RandomForestClassifier\n",
        "from pyspark.ml import Pipeline"
      ],
      "metadata": {
        "id": "c5IceuviMyHh"
      },
      "execution_count": null,
      "outputs": []
    },
    {
      "cell_type": "code",
      "execution_count": null,
      "metadata": {
        "id": "-bRzrcLn6Prn"
      },
      "outputs": [],
      "source": [
        ""
      ]
    },
    {
      "cell_type": "markdown",
      "metadata": {
        "id": "U-jq1gS-6Prn"
      },
      "source": [
        "**Create a pipeline that contains the following stages:**\n",
        "\n",
        "- Imputer: impute the null values in `age` column to the mean value\n",
        "- StringIndexer: convert `sex` to `is_male` and `province` to `province_index` as numerical values\n",
        "- OneHotEncoder: perform one hot encoding on both `is_male` and -province_index`\n",
        "- VectorAssembler: assemble feature vector from the following columns: `'age', 'is_male', 'province_index'`\n",
        "- RandomForestClassifier: final estimator"
      ]
    },
    {
      "cell_type": "code",
      "execution_count": null,
      "metadata": {
        "id": "fxSfuFv26Pro"
      },
      "outputs": [],
      "source": [
        "imputer = Imputer(\n",
        "    inputCols=['age'], \n",
        "    outputCols=[\"age_imputed\"]\n",
        "    ).setStrategy(\"mean\")"
      ]
    },
    {
      "cell_type": "code",
      "execution_count": null,
      "metadata": {
        "id": "cUwkmLn86Pro"
      },
      "outputs": [],
      "source": [
        "stringIndexer = StringIndexer(inputCols=['sex','province'],outputCols=['is_male','province_index'], handleInvalid='skip')"
      ]
    },
    {
      "cell_type": "code",
      "execution_count": null,
      "metadata": {
        "id": "p-0DmDn36Pro"
      },
      "outputs": [],
      "source": [
        "oheEncoder = OneHotEncoder(inputCols=['is_male','province_index'], outputCols=['hot_is_male','hot_province_index'])"
      ]
    },
    {
      "cell_type": "code",
      "source": [
        "vecAssembler = VectorAssembler(inputCols=['age_imputed', 'hot_is_male', 'hot_province_index'],outputCol='features')"
      ],
      "metadata": {
        "id": "XYSxnedGQvaZ"
      },
      "execution_count": null,
      "outputs": []
    },
    {
      "cell_type": "code",
      "source": [
        "Rf = RandomForestClassifier(featuresCol='features',labelCol='isdead',predictionCol='prediction')"
      ],
      "metadata": {
        "id": "Ubz4FuxcREMc"
      },
      "execution_count": null,
      "outputs": []
    },
    {
      "cell_type": "markdown",
      "metadata": {
        "id": "WVevP5ac6Pro"
      },
      "source": [
        "Fit the pipeline to the train dataframe"
      ]
    },
    {
      "cell_type": "code",
      "execution_count": null,
      "metadata": {
        "id": "b-VssqF66Pro"
      },
      "outputs": [],
      "source": [
        "stgs = [imputer,stringIndexer,oheEncoder,vecAssembler,Rf]"
      ]
    },
    {
      "cell_type": "code",
      "source": [
        "pl = Pipeline(stages=stgs)\n"
      ],
      "metadata": {
        "id": "xmvJtJN4ROfb"
      },
      "execution_count": null,
      "outputs": []
    },
    {
      "cell_type": "code",
      "source": [
        "trainDF.show()"
      ],
      "metadata": {
        "colab": {
          "base_uri": "https://localhost:8080/"
        },
        "id": "waiYSHL4TExJ",
        "outputId": "a18a1b33-c761-4f12-87d9-74ee9b4f9849"
      },
      "execution_count": null,
      "outputs": [
        {
          "output_type": "stream",
          "name": "stdout",
          "text": [
            "+----+----+-----------+--------+------+\n",
            "| sex| age|   province|   state|isdead|\n",
            "+----+----+-----------+--------+------+\n",
            "|null|null|      Busan|isolated|     0|\n",
            "|null|null|      Busan|isolated|     0|\n",
            "|null|null|Gyeonggi-do|isolated|     0|\n",
            "|null|null|Gyeonggi-do|isolated|     0|\n",
            "|null|null|Gyeonggi-do|isolated|     0|\n",
            "|null|null|Gyeonggi-do|isolated|     0|\n",
            "|null|null|Gyeonggi-do|isolated|     0|\n",
            "|null|null|Gyeonggi-do|isolated|     0|\n",
            "|null|null|Gyeonggi-do|isolated|     0|\n",
            "|null|null|Gyeonggi-do|isolated|     0|\n",
            "|null|null|Gyeonggi-do|isolated|     0|\n",
            "|null|null|Gyeonggi-do|isolated|     0|\n",
            "|null|null|Gyeonggi-do|isolated|     0|\n",
            "|null|null|Gyeonggi-do|isolated|     0|\n",
            "|null|null|Gyeonggi-do|isolated|     0|\n",
            "|null|null|Gyeonggi-do|isolated|     0|\n",
            "|null|null|Gyeonggi-do|isolated|     0|\n",
            "|null|null|Gyeonggi-do|isolated|     0|\n",
            "|null|null|Gyeonggi-do|isolated|     0|\n",
            "|null|null|Gyeonggi-do|isolated|     0|\n",
            "+----+----+-----------+--------+------+\n",
            "only showing top 20 rows\n",
            "\n"
          ]
        }
      ]
    },
    {
      "cell_type": "code",
      "source": [
        "pl_Model = pl.fit(trainDF)"
      ],
      "metadata": {
        "id": "Ekw8MXXTRWU0"
      },
      "execution_count": null,
      "outputs": []
    },
    {
      "cell_type": "markdown",
      "metadata": {
        "id": "GWhbG0bS6Pro"
      },
      "source": [
        "Now transform the test DF to get predictions"
      ]
    },
    {
      "cell_type": "code",
      "execution_count": null,
      "metadata": {
        "id": "Oroz0o0T6Pro"
      },
      "outputs": [],
      "source": [
        "predDF = pl_Model.transform(testDF)"
      ]
    },
    {
      "cell_type": "markdown",
      "metadata": {
        "id": "ZzpRJPRW6Prp"
      },
      "source": [
        "Show the final predictions DF"
      ]
    },
    {
      "cell_type": "code",
      "execution_count": null,
      "metadata": {
        "colab": {
          "base_uri": "https://localhost:8080/"
        },
        "id": "_91Sc2q56Prp",
        "outputId": "4f001116-33b4-422d-fb8b-a7ee5d8bfe52"
      },
      "outputs": [
        {
          "output_type": "stream",
          "name": "stdout",
          "text": [
            "+------+----+-----------------+--------+------+-----------------+-------+--------------+-------------+------------------+--------------------+--------------------+--------------------+----------+\n",
            "|   sex| age|         province|   state|isdead|      age_imputed|is_male|province_index|  hot_is_male|hot_province_index|            features|       rawPrediction|         probability|prediction|\n",
            "+------+----+-----------------+--------+------+-----------------+-------+--------------+-------------+------------------+--------------------+--------------------+--------------------+----------+\n",
            "|female|null|Chungcheongnam-do|released|     1|40.83025210084033|    0.0|           4.0|(1,[0],[1.0])|    (16,[4],[1.0])|(18,[0,1,6],[40.8...|[5.34544334220968...|[0.26727216711048...|       1.0|\n",
            "|female|null|Chungcheongnam-do|released|     1|40.83025210084033|    0.0|           4.0|(1,[0],[1.0])|    (16,[4],[1.0])|(18,[0,1,6],[40.8...|[5.34544334220968...|[0.26727216711048...|       1.0|\n",
            "|female|null|            Daegu|isolated|     0|40.83025210084033|    0.0|           6.0|(1,[0],[1.0])|    (16,[6],[1.0])|(18,[0,1,8],[40.8...|[15.7316897272981...|[0.78658448636490...|       0.0|\n",
            "|female|null|      Gyeonggi-do|isolated|     0|40.83025210084033|    0.0|           2.0|(1,[0],[1.0])|    (16,[2],[1.0])|(18,[0,1,4],[40.8...|[17.3615700231132...|[0.86807850115566...|       0.0|\n",
            "|female|null| Gyeongsangbuk-do|isolated|     0|40.83025210084033|    0.0|           1.0|(1,[0],[1.0])|    (16,[1],[1.0])|(18,[0,1,3],[40.8...|[4.38855430655556...|[0.21942771532777...|       1.0|\n",
            "|female|null| Gyeongsangbuk-do|released|     1|40.83025210084033|    0.0|           1.0|(1,[0],[1.0])|    (16,[1],[1.0])|(18,[0,1,3],[40.8...|[4.38855430655556...|[0.21942771532777...|       1.0|\n",
            "|female|null| Gyeongsangbuk-do|released|     1|40.83025210084033|    0.0|           1.0|(1,[0],[1.0])|    (16,[1],[1.0])|(18,[0,1,3],[40.8...|[4.38855430655556...|[0.21942771532777...|       1.0|\n",
            "|female|null| Gyeongsangbuk-do|released|     1|40.83025210084033|    0.0|           1.0|(1,[0],[1.0])|    (16,[1],[1.0])|(18,[0,1,3],[40.8...|[4.38855430655556...|[0.21942771532777...|       1.0|\n",
            "|female|null| Gyeongsangbuk-do|released|     1|40.83025210084033|    0.0|           1.0|(1,[0],[1.0])|    (16,[1],[1.0])|(18,[0,1,3],[40.8...|[4.38855430655556...|[0.21942771532777...|       1.0|\n",
            "|female|null| Gyeongsangbuk-do|released|     1|40.83025210084033|    0.0|           1.0|(1,[0],[1.0])|    (16,[1],[1.0])|(18,[0,1,3],[40.8...|[4.38855430655556...|[0.21942771532777...|       1.0|\n",
            "|female|null|          Incheon|isolated|     0|40.83025210084033|    0.0|           3.0|(1,[0],[1.0])|    (16,[3],[1.0])|(18,[0,1,5],[40.8...|[13.4674506293144...|[0.67337253146572...|       0.0|\n",
            "|female|null|          Incheon|isolated|     0|40.83025210084033|    0.0|           3.0|(1,[0],[1.0])|    (16,[3],[1.0])|(18,[0,1,5],[40.8...|[13.4674506293144...|[0.67337253146572...|       0.0|\n",
            "|female|null|          Incheon|isolated|     0|40.83025210084033|    0.0|           3.0|(1,[0],[1.0])|    (16,[3],[1.0])|(18,[0,1,5],[40.8...|[13.4674506293144...|[0.67337253146572...|       0.0|\n",
            "|female|null|          Incheon|isolated|     0|40.83025210084033|    0.0|           3.0|(1,[0],[1.0])|    (16,[3],[1.0])|(18,[0,1,5],[40.8...|[13.4674506293144...|[0.67337253146572...|       0.0|\n",
            "|female|null|          Incheon|isolated|     0|40.83025210084033|    0.0|           3.0|(1,[0],[1.0])|    (16,[3],[1.0])|(18,[0,1,5],[40.8...|[13.4674506293144...|[0.67337253146572...|       0.0|\n",
            "|female|null|          Incheon|isolated|     0|40.83025210084033|    0.0|           3.0|(1,[0],[1.0])|    (16,[3],[1.0])|(18,[0,1,5],[40.8...|[13.4674506293144...|[0.67337253146572...|       0.0|\n",
            "|female|null|          Incheon|isolated|     0|40.83025210084033|    0.0|           3.0|(1,[0],[1.0])|    (16,[3],[1.0])|(18,[0,1,5],[40.8...|[13.4674506293144...|[0.67337253146572...|       0.0|\n",
            "|female|null|          Incheon|isolated|     0|40.83025210084033|    0.0|           3.0|(1,[0],[1.0])|    (16,[3],[1.0])|(18,[0,1,5],[40.8...|[13.4674506293144...|[0.67337253146572...|       0.0|\n",
            "|female|null|          Incheon|isolated|     0|40.83025210084033|    0.0|           3.0|(1,[0],[1.0])|    (16,[3],[1.0])|(18,[0,1,5],[40.8...|[13.4674506293144...|[0.67337253146572...|       0.0|\n",
            "|female|null|          Incheon|isolated|     0|40.83025210084033|    0.0|           3.0|(1,[0],[1.0])|    (16,[3],[1.0])|(18,[0,1,5],[40.8...|[13.4674506293144...|[0.67337253146572...|       0.0|\n",
            "+------+----+-----------------+--------+------+-----------------+-------+--------------+-------------+------------------+--------------------+--------------------+--------------------+----------+\n",
            "only showing top 20 rows\n",
            "\n"
          ]
        }
      ],
      "source": [
        "predDF.show()"
      ]
    },
    {
      "cell_type": "code",
      "execution_count": null,
      "metadata": {
        "colab": {
          "base_uri": "https://localhost:8080/"
        },
        "id": "M6WCFjPk6Prp",
        "outputId": "365e921d-2e2b-41e6-a1c2-cd8423ef3e9e"
      },
      "outputs": [
        {
          "output_type": "stream",
          "name": "stdout",
          "text": [
            "+----------------------------------------+------+----------+\n",
            "|features                                |isdead|prediction|\n",
            "+----------------------------------------+------+----------+\n",
            "|(18,[0,1,6],[40.83025210084033,1.0,1.0])|1     |1.0       |\n",
            "|(18,[0,1,6],[40.83025210084033,1.0,1.0])|1     |1.0       |\n",
            "|(18,[0,1,8],[40.83025210084033,1.0,1.0])|0     |0.0       |\n",
            "|(18,[0,1,4],[40.83025210084033,1.0,1.0])|0     |0.0       |\n",
            "|(18,[0,1,3],[40.83025210084033,1.0,1.0])|0     |1.0       |\n",
            "+----------------------------------------+------+----------+\n",
            "only showing top 5 rows\n",
            "\n"
          ]
        }
      ],
      "source": [
        "predDF.select('features','isdead','prediction').show(5,truncate=False)"
      ]
    },
    {
      "cell_type": "markdown",
      "metadata": {
        "id": "J4CnGL5k6Prp"
      },
      "source": [
        "**Model Evaluation**\n",
        "\n",
        "Now let's evaluate our model! Let's get the accuracy of our model"
      ]
    },
    {
      "cell_type": "code",
      "execution_count": null,
      "metadata": {
        "id": "xMZWo9y16Prp"
      },
      "outputs": [],
      "source": [
        "from pyspark.ml.evaluation import BinaryClassificationEvaluator,MulticlassClassificationEvaluator"
      ]
    },
    {
      "cell_type": "code",
      "execution_count": null,
      "metadata": {
        "id": "dWMvAmxN6Prp"
      },
      "outputs": [],
      "source": [
        "evaluator = MulticlassClassificationEvaluator().setLabelCol(\"isdead\").setPredictionCol(\"prediction\").setMetricName(\"accuracy\")\n",
        "accuracy = evaluator.evaluate(predDF)\n"
      ]
    },
    {
      "cell_type": "code",
      "source": [
        "print(accuracy)"
      ],
      "metadata": {
        "colab": {
          "base_uri": "https://localhost:8080/"
        },
        "id": "-ZuB7ThDU4oq",
        "outputId": "08f09219-9693-4c25-d812-c49981605b66"
      },
      "execution_count": null,
      "outputs": [
        {
          "output_type": "stream",
          "name": "stdout",
          "text": [
            "0.9\n"
          ]
        }
      ]
    },
    {
      "cell_type": "markdown",
      "metadata": {
        "id": "_Vp_iG-x6Prp"
      },
      "source": [
        "Excellent! Now let's generate the confusion matrix of our predictions\n",
        "\n",
        "*Hint: we can use `scikit-learn`'s `classification_report`. You will need to transform the predictions into pandas DF first*"
      ]
    },
    {
      "cell_type": "code",
      "execution_count": null,
      "metadata": {
        "id": "meYvpIkC6Prq"
      },
      "outputs": [],
      "source": [
        ""
      ]
    },
    {
      "cell_type": "code",
      "execution_count": null,
      "metadata": {
        "id": "NFug8sPP6Prq"
      },
      "outputs": [],
      "source": [
        ""
      ]
    },
    {
      "cell_type": "code",
      "execution_count": null,
      "metadata": {
        "id": "wWZiTUYF6Prq"
      },
      "outputs": [],
      "source": [
        ""
      ]
    },
    {
      "cell_type": "markdown",
      "metadata": {
        "id": "FkmvnEwz6Prq"
      },
      "source": [
        "## Great Job!\n",
        "\n",
        "**If you followed the instructions correctly, you should get a total accuracy of 89%, and F1 scores of 92% and 85%**\n",
        "\n",
        "**Do you think you can improve this accuracy? Let's see what you can do :)**\n",
        "\n",
        "___\n",
        "If you have any questions you can reach out to me:\n",
        "\n",
        "### Omar Hammad\n",
        "#### Software Engineer\n",
        "##### Email: ommar365@gmail.com\n",
        "##### Phone: 01144070145\n",
        "##### Linkedin: https://www.linkedin.com/in/omar-a-hammad"
      ]
    }
  ],
  "metadata": {
    "kernelspec": {
      "display_name": "Python 3.9.10",
      "language": "python",
      "name": "python3"
    },
    "language_info": {
      "codemirror_mode": {
        "name": "ipython",
        "version": 3
      },
      "file_extension": ".py",
      "mimetype": "text/x-python",
      "name": "python",
      "nbconvert_exporter": "python",
      "pygments_lexer": "ipython3",
      "version": "3.9.10"
    },
    "orig_nbformat": 4,
    "vscode": {
      "interpreter": {
        "hash": "dd1a844898bebfcc6c6c504d1dc786ee6fa9d0c6b1f1b5f42f0cc60440be92ab"
      }
    },
    "colab": {
      "name": "Fatema_Samir_Practical_Session_2_v2.ipynb",
      "provenance": [],
      "collapsed_sections": [],
      "include_colab_link": true
    }
  },
  "nbformat": 4,
  "nbformat_minor": 0
}