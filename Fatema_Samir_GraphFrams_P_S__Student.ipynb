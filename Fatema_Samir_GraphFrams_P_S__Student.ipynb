{
  "cells": [
    {
      "cell_type": "markdown",
      "metadata": {
        "id": "view-in-github",
        "colab_type": "text"
      },
      "source": [
        "<a href=\"https://colab.research.google.com/github/FatemaSamir/pyspark/blob/main/Fatema_Samir_GraphFrams_P_S__Student.ipynb\" target=\"_parent\"><img src=\"https://colab.research.google.com/assets/colab-badge.svg\" alt=\"Open In Colab\"/></a>"
      ]
    },
    {
      "cell_type": "markdown",
      "id": "779b346d",
      "metadata": {
        "id": "779b346d"
      },
      "source": [
        "## The following section is for Colab Users.\n",
        "### Just run the following code cells"
      ]
    },
    {
      "cell_type": "code",
      "execution_count": null,
      "id": "7d73eb01",
      "metadata": {
        "id": "7d73eb01",
        "colab": {
          "base_uri": "https://localhost:8080/"
        },
        "outputId": "1e633429-cb48-4bae-949c-52ef39e333e1"
      },
      "outputs": [
        {
          "output_type": "stream",
          "name": "stdout",
          "text": [
            "\u001b[K     |████████████████████████████████| 281.3 MB 47 kB/s \n",
            "\u001b[K     |████████████████████████████████| 199 kB 65.6 MB/s \n",
            "\u001b[K     |████████████████████████████████| 154 kB 59.1 MB/s \n",
            "\u001b[?25h  Building wheel for pyspark (setup.py) ... \u001b[?25l\u001b[?25hdone\n"
          ]
        }
      ],
      "source": [
        "!apt-get install openjdk-11-jdk-headless -qq > /dev/null\n",
        "!wget -q https://bitbucket.org/habedi/datasets/raw/b6769c4664e7ff68b001e2f43bc517888cbe3642/spark/spark-3.0.2-bin-hadoop2.7.tgz\n",
        "!tar xf spark-3.0.2-bin-hadoop2.7.tgz\n",
        "!rm -rf spark-3.0.2-bin-hadoop2.7.tgz*\n",
        "!pip -q install findspark pyspark graphframes"
      ]
    },
    {
      "cell_type": "code",
      "execution_count": null,
      "id": "299e0d6a",
      "metadata": {
        "id": "299e0d6a",
        "colab": {
          "base_uri": "https://localhost:8080/"
        },
        "outputId": "47f50c33-1e9d-4295-8863-9611679ab565"
      },
      "outputs": [
        {
          "output_type": "stream",
          "name": "stdout",
          "text": [
            "--2022-07-18 20:57:19--  https://repos.spark-packages.org/graphframes/graphframes/0.8.2-spark3.0-s_2.12/graphframes-0.8.2-spark3.0-s_2.12.jar\n",
            "Resolving repos.spark-packages.org (repos.spark-packages.org)... 13.32.87.68, 13.32.87.119, 13.32.87.12, ...\n",
            "Connecting to repos.spark-packages.org (repos.spark-packages.org)|13.32.87.68|:443... connected.\n",
            "HTTP request sent, awaiting response... 200 OK\n",
            "Length: 247882 (242K) [binary/octet-stream]\n",
            "Saving to: ‘/content/spark-3.0.2-bin-hadoop2.7/jars/graphframes-0.8.2-spark3.0-s_2.12.jar’\n",
            "\n",
            "graphframes-0.8.2-s 100%[===================>] 242.07K  --.-KB/s    in 0.06s   \n",
            "\n",
            "2022-07-18 20:57:19 (3.91 MB/s) - ‘/content/spark-3.0.2-bin-hadoop2.7/jars/graphframes-0.8.2-spark3.0-s_2.12.jar’ saved [247882/247882]\n",
            "\n"
          ]
        }
      ],
      "source": [
        "!wget https://repos.spark-packages.org/graphframes/graphframes/0.8.2-spark3.0-s_2.12/graphframes-0.8.2-spark3.0-s_2.12.jar -P /content/spark-3.0.2-bin-hadoop2.7/jars/\n",
        "!cp /content/spark-3.0.2-bin-hadoop2.7/jars/graphframes-0.8.2-spark3.0-s_2.12.jar /content/spark-3.0.2-bin-hadoop2.7/graphframes-0.8.2-spark3.0-s_2.12.zip"
      ]
    },
    {
      "cell_type": "code",
      "execution_count": null,
      "id": "ee0d39ec",
      "metadata": {
        "id": "ee0d39ec"
      },
      "outputs": [],
      "source": [
        "import os\n",
        "\n",
        "os.environ[\"JAVA_HOME\"] = \"/usr/lib/jvm/java-11-openjdk-amd64\"\n",
        "os.environ[\"SPARK_HOME\"] = \"/content/spark-3.0.2-bin-hadoop2.7\"\n",
        "os.environ[\"HADOOP_HOME\"] = os.environ[\"SPARK_HOME\"]\n",
        "\n",
        "os.environ[\"PYSPARK_DRIVER_PYTHON\"] = \"jupyter\"\n",
        "os.environ[\"PYSPARK_DRIVER_PYTHON_OPTS\"] = \"notebook\"\n",
        "os.environ[\"PYSPARK_SUBMIT_ARGS\"] = \"--master local[*] pyspark-shell\""
      ]
    },
    {
      "cell_type": "code",
      "execution_count": null,
      "id": "7136d8e6",
      "metadata": {
        "id": "7136d8e6"
      },
      "outputs": [],
      "source": [
        "import findspark\n",
        "findspark.init()"
      ]
    },
    {
      "cell_type": "code",
      "execution_count": null,
      "id": "92f3e19b",
      "metadata": {
        "id": "92f3e19b"
      },
      "outputs": [],
      "source": [
        "!export PYSPARK_SUBMIT_ARGS=\"--master local[*] pyspark-shell\"\n",
        "!export PYSPARK_DRIVER_PYTHON=jupyter\n",
        "!export PYSPARK_DRIVER_PYTHON_OPTS=notebook"
      ]
    },
    {
      "cell_type": "code",
      "execution_count": null,
      "id": "f1504ff4",
      "metadata": {
        "id": "f1504ff4"
      },
      "outputs": [],
      "source": [
        "from pyspark.sql import SparkSession\n",
        "from graphframes import *\n",
        "\n",
        "spark = SparkSession.builder.master(\"local[*]\").appName(\"GraphFrames\").getOrCreate()"
      ]
    },
    {
      "cell_type": "code",
      "execution_count": null,
      "id": "252db99a",
      "metadata": {
        "id": "252db99a"
      },
      "outputs": [],
      "source": [
        "os.environ[\"PYSPARK_SUBMIT_ARGS\"] = \"--packages graphframes:graphframes:0.8.1-spark3.0-s_2.12 pyspark-shell\""
      ]
    },
    {
      "cell_type": "markdown",
      "id": "66232934",
      "metadata": {
        "id": "66232934"
      },
      "source": [
        "**************************************************************************\n",
        "**************************************************************************\n",
        "**************************************************************************"
      ]
    },
    {
      "cell_type": "code",
      "execution_count": null,
      "id": "c90808ca",
      "metadata": {
        "id": "c90808ca",
        "colab": {
          "base_uri": "https://localhost:8080/"
        },
        "outputId": "43b7aa6a-b0f1-450b-8d90-256fc82b9f6e"
      },
      "outputs": [
        {
          "output_type": "stream",
          "name": "stdout",
          "text": [
            "Mounted at /content/drive\n"
          ]
        }
      ],
      "source": [
        "from google.colab import drive\n",
        "drive.mount('/content/drive')"
      ]
    },
    {
      "cell_type": "code",
      "execution_count": null,
      "id": "2a0819b3",
      "metadata": {
        "id": "2a0819b3",
        "outputId": "2fefef77-2269-48ec-ccfa-3c6353ec6358",
        "colab": {
          "base_uri": "https://localhost:8080/",
          "height": 17
        }
      },
      "outputs": [
        {
          "output_type": "display_data",
          "data": {
            "text/plain": [
              "<IPython.core.display.HTML object>"
            ],
            "text/html": [
              "<style>pre { white-space: pre !important; }</style>"
            ]
          },
          "metadata": {}
        }
      ],
      "source": [
        "from IPython.display import display, HTML\n",
        "display(HTML(\"<style>pre { white-space: pre !important; }</style>\"))"
      ]
    },
    {
      "cell_type": "markdown",
      "id": "d7f57da0",
      "metadata": {
        "id": "d7f57da0"
      },
      "source": [
        "### Read departuredelays.csv in Edge DataFrame\n",
        "### Read airport-codes-na.txt in Vertix DataFrame (the separator is Tab i.e sep = '\\t' )"
      ]
    },
    {
      "cell_type": "markdown",
      "id": "631c334e",
      "metadata": {
        "id": "631c334e"
      },
      "source": [
        "#### The US flight delays data set has five columns:\n",
        "- The <b>date</b> column contains an integer like 02190925 . When converted, this maps to 02-19 09:25 am.\n",
        "- The <b>delay</b> column gives the delay in minutes between the scheduled and actual departure times. Early departures show negative numbers.\n",
        "- The <b>distance</b> column gives the distance in miles from the origin airport to the destination airport.\n",
        "- The <b>origin</b> column contains the origin IATA airport code.\n",
        "- The <b>destination</b> column contains the destination IATA airport code.\n",
        "\n",
        "#### The airport-codes data set has four columns:\n",
        "- The <b>IATA</b> column contains IATA airport code.\n",
        "- The <b>City, State, and Country</b> columns contains information about the airport location."
      ]
    },
    {
      "cell_type": "code",
      "source": [
        "Edge_df = spark.read.csv('/content/drive/MyDrive/Spark_lab4/departuredelays.csv',header=True)"
      ],
      "metadata": {
        "id": "mm1phehX_YPq"
      },
      "id": "mm1phehX_YPq",
      "execution_count": null,
      "outputs": []
    },
    {
      "cell_type": "code",
      "source": [
        "Edge_df.printSchema()"
      ],
      "metadata": {
        "colab": {
          "base_uri": "https://localhost:8080/"
        },
        "id": "9BRZR8biCW3j",
        "outputId": "7a8b249c-7476-43fc-cf6c-0e5799f65ac8"
      },
      "id": "9BRZR8biCW3j",
      "execution_count": null,
      "outputs": [
        {
          "output_type": "stream",
          "name": "stdout",
          "text": [
            "root\n",
            " |-- date: string (nullable = true)\n",
            " |-- delay: string (nullable = true)\n",
            " |-- distance: string (nullable = true)\n",
            " |-- origin: string (nullable = true)\n",
            " |-- destination: string (nullable = true)\n",
            "\n"
          ]
        }
      ]
    },
    {
      "cell_type": "code",
      "source": [
        "Edge_df.show()"
      ],
      "metadata": {
        "colab": {
          "base_uri": "https://localhost:8080/"
        },
        "id": "vhzB-XvUCaV-",
        "outputId": "61ccbc1a-a9b4-4630-b800-3a08ff6f3d36"
      },
      "id": "vhzB-XvUCaV-",
      "execution_count": null,
      "outputs": [
        {
          "output_type": "stream",
          "name": "stdout",
          "text": [
            "+--------+-----+--------+------+-----------+\n",
            "|    date|delay|distance|origin|destination|\n",
            "+--------+-----+--------+------+-----------+\n",
            "|01011245|    6|     602|   ABE|        ATL|\n",
            "|01020600|   -8|     369|   ABE|        DTW|\n",
            "|01021245|   -2|     602|   ABE|        ATL|\n",
            "|01020605|   -4|     602|   ABE|        ATL|\n",
            "|01031245|   -4|     602|   ABE|        ATL|\n",
            "|01030605|    0|     602|   ABE|        ATL|\n",
            "|01041243|   10|     602|   ABE|        ATL|\n",
            "|01040605|   28|     602|   ABE|        ATL|\n",
            "|01051245|   88|     602|   ABE|        ATL|\n",
            "|01050605|    9|     602|   ABE|        ATL|\n",
            "|01061215|   -6|     602|   ABE|        ATL|\n",
            "|01061725|   69|     602|   ABE|        ATL|\n",
            "|01061230|    0|     369|   ABE|        DTW|\n",
            "|01060625|   -3|     602|   ABE|        ATL|\n",
            "|01070600|    0|     369|   ABE|        DTW|\n",
            "|01071725|    0|     602|   ABE|        ATL|\n",
            "|01071230|    0|     369|   ABE|        DTW|\n",
            "|01070625|    0|     602|   ABE|        ATL|\n",
            "|01071219|    0|     569|   ABE|        ORD|\n",
            "|01080600|    0|     369|   ABE|        DTW|\n",
            "+--------+-----+--------+------+-----------+\n",
            "only showing top 20 rows\n",
            "\n"
          ]
        }
      ]
    },
    {
      "cell_type": "code",
      "source": [
        "from pyspark.sql import functions as F\n",
        "import pandas as pd\n",
        "\n",
        "Edge_df2 = Edge_df.withColumn(\"date\",F.date_format( F.to_timestamp(F.col(\"date\").cast(\"string\"), \\\n",
        "    'MMddHHmm'),\"MM dd hh:mm a\"))\n",
        "Edge_df2.show()"
      ],
      "metadata": {
        "colab": {
          "base_uri": "https://localhost:8080/"
        },
        "id": "v0wKA54QDMY6",
        "outputId": "5405bd35-bde7-4428-a295-2c0baedfcdcc"
      },
      "id": "v0wKA54QDMY6",
      "execution_count": null,
      "outputs": [
        {
          "output_type": "stream",
          "name": "stdout",
          "text": [
            "+--------------+-----+--------+------+-----------+\n",
            "|          date|delay|distance|origin|destination|\n",
            "+--------------+-----+--------+------+-----------+\n",
            "|01 01 12:45 PM|    6|     602|   ABE|        ATL|\n",
            "|01 02 06:00 AM|   -8|     369|   ABE|        DTW|\n",
            "|01 02 12:45 PM|   -2|     602|   ABE|        ATL|\n",
            "|01 02 06:05 AM|   -4|     602|   ABE|        ATL|\n",
            "|01 03 12:45 PM|   -4|     602|   ABE|        ATL|\n",
            "|01 03 06:05 AM|    0|     602|   ABE|        ATL|\n",
            "|01 04 12:43 PM|   10|     602|   ABE|        ATL|\n",
            "|01 04 06:05 AM|   28|     602|   ABE|        ATL|\n",
            "|01 05 12:45 PM|   88|     602|   ABE|        ATL|\n",
            "|01 05 06:05 AM|    9|     602|   ABE|        ATL|\n",
            "|01 06 12:15 PM|   -6|     602|   ABE|        ATL|\n",
            "|01 06 05:25 PM|   69|     602|   ABE|        ATL|\n",
            "|01 06 12:30 PM|    0|     369|   ABE|        DTW|\n",
            "|01 06 06:25 AM|   -3|     602|   ABE|        ATL|\n",
            "|01 07 06:00 AM|    0|     369|   ABE|        DTW|\n",
            "|01 07 05:25 PM|    0|     602|   ABE|        ATL|\n",
            "|01 07 12:30 PM|    0|     369|   ABE|        DTW|\n",
            "|01 07 06:25 AM|    0|     602|   ABE|        ATL|\n",
            "|01 07 12:19 PM|    0|     569|   ABE|        ORD|\n",
            "|01 08 06:00 AM|    0|     369|   ABE|        DTW|\n",
            "+--------------+-----+--------+------+-----------+\n",
            "only showing top 20 rows\n",
            "\n"
          ]
        }
      ]
    },
    {
      "cell_type": "code",
      "source": [],
      "metadata": {
        "id": "GeJulbj6JQAf"
      },
      "id": "GeJulbj6JQAf",
      "execution_count": null,
      "outputs": []
    },
    {
      "cell_type": "markdown",
      "id": "e1d90463",
      "metadata": {
        "id": "e1d90463"
      },
      "source": [
        "### In the vertix DataFrame, drop any duplicated rows with the same  IATA code."
      ]
    },
    {
      "cell_type": "code",
      "execution_count": null,
      "id": "30f02a5a",
      "metadata": {
        "id": "30f02a5a",
        "colab": {
          "base_uri": "https://localhost:8080/"
        },
        "outputId": "dbafb4d7-68f6-4286-8834-54c2fa1e1806"
      },
      "outputs": [
        {
          "output_type": "stream",
          "name": "stdout",
          "text": [
            "+-----------+-----+-------+----+\n",
            "|       City|State|Country|IATA|\n",
            "+-----------+-----+-------+----+\n",
            "| Abbotsford|   BC| Canada| YXX|\n",
            "|   Aberdeen|   SD|    USA| ABR|\n",
            "|    Abilene|   TX|    USA| ABI|\n",
            "|      Akron|   OH|    USA| CAK|\n",
            "|    Alamosa|   CO|    USA| ALS|\n",
            "|     Albany|   GA|    USA| ABY|\n",
            "|     Albany|   NY|    USA| ALB|\n",
            "|Albuquerque|   NM|    USA| ABQ|\n",
            "| Alexandria|   LA|    USA| AEX|\n",
            "|  Allentown|   PA|    USA| ABE|\n",
            "|   Alliance|   NE|    USA| AIA|\n",
            "|     Alpena|   MI|    USA| APN|\n",
            "|    Altoona|   PA|    USA| AOO|\n",
            "|   Amarillo|   TX|    USA| AMA|\n",
            "|Anahim Lake|   BC| Canada| YAA|\n",
            "|  Anchorage|   AK|    USA| ANC|\n",
            "|   Appleton|   WI|    USA| ATW|\n",
            "|     Arviat|  NWT| Canada| YEK|\n",
            "|  Asheville|   NC|    USA| AVL|\n",
            "|      Aspen|   CO|    USA| ASE|\n",
            "+-----------+-----+-------+----+\n",
            "only showing top 20 rows\n",
            "\n"
          ]
        }
      ],
      "source": [
        "from posixpath import sep\n",
        "Vertix_df = spark.read.option('sep','\\t').csv('/content/drive/MyDrive/Spark_lab4/airport-codes-na.txt',header=True)\n",
        "Vertix_df.show()"
      ]
    },
    {
      "cell_type": "code",
      "source": [
        "Vertix_df.printSchema()"
      ],
      "metadata": {
        "colab": {
          "base_uri": "https://localhost:8080/"
        },
        "id": "CoPfOALJB2Nr",
        "outputId": "0ac4077e-8211-441a-d196-39e74c195f29"
      },
      "id": "CoPfOALJB2Nr",
      "execution_count": null,
      "outputs": [
        {
          "output_type": "stream",
          "name": "stdout",
          "text": [
            "root\n",
            " |-- City: string (nullable = true)\n",
            " |-- State: string (nullable = true)\n",
            " |-- Country: string (nullable = true)\n",
            " |-- IATA: string (nullable = true)\n",
            "\n"
          ]
        }
      ]
    },
    {
      "cell_type": "code",
      "source": [
        "# drope any duplicate\n",
        "Vertix_df2 = Vertix_df.drop_duplicates()\n",
        "Vertix_df2.show()"
      ],
      "metadata": {
        "colab": {
          "base_uri": "https://localhost:8080/"
        },
        "id": "IPVCMbCxEh2P",
        "outputId": "ef22d281-bbdf-480c-b599-7cb122f99be9"
      },
      "id": "IPVCMbCxEh2P",
      "execution_count": null,
      "outputs": [
        {
          "output_type": "stream",
          "name": "stdout",
          "text": [
            "+--------------+-------+-------+----+\n",
            "|          City|  State|Country|IATA|\n",
            "+--------------+-------+-------+----+\n",
            "|    Clarksburg|     WV|    USA| CKB|\n",
            "|    Fort Dodge|     IA|    USA| FOD|\n",
            "|       Redmond|     OR|    USA| RDM|\n",
            "|        Valdez|     AK|    USA| VDZ|\n",
            "|       Lebanon|     NH|    USA| LEB|\n",
            "|         Aspen|     CO|    USA| ASE|\n",
            "| Rouyn-Noranda|     PQ| Canada| YUY|\n",
            "|       Iqaluit|Nunavut| Canada| YFB|\n",
            "|       Toronto|     ON| Canada| YYZ|\n",
            "|    Dillingham|     AK|    USA| DLG|\n",
            "|   Fort Nelson|     BC| Canada| YYE|\n",
            "|      Pellston|     MI|    USA| PLN|\n",
            "|     St. Cloud|     MN|    USA| STC|\n",
            "|St. Petersburg|     FL|    USA| PIE|\n",
            "|    Great Bend|     KS|    USA| GBD|\n",
            "|          Hilo|     HI|    USA| Big|\n",
            "|       Kelowna|     BC| Canada| YLW|\n",
            "|       Bemidji|     MN|    USA| BJI|\n",
            "|        London|     ON| Canada| YXU|\n",
            "|      Longview|     TX|    USA| GGG|\n",
            "+--------------+-------+-------+----+\n",
            "only showing top 20 rows\n",
            "\n"
          ]
        }
      ]
    },
    {
      "cell_type": "code",
      "execution_count": null,
      "id": "15571db4",
      "metadata": {
        "id": "15571db4"
      },
      "outputs": [],
      "source": []
    },
    {
      "cell_type": "markdown",
      "id": "83d1dea8",
      "metadata": {
        "id": "83d1dea8"
      },
      "source": [
        "### In the edges DataFrame:\n",
        "- Rename the <b>date</b> columns to become <b>tripid</b>.\n",
        "- Rename the <b>origin</b> columns to become <b>src</b>.\n",
        "- Rename the <b>destination</b> columns to become <b>dst</b>."
      ]
    },
    {
      "cell_type": "code",
      "execution_count": null,
      "id": "5319e844",
      "metadata": {
        "id": "5319e844",
        "colab": {
          "base_uri": "https://localhost:8080/"
        },
        "outputId": "1d1386d2-a8ca-429b-aee8-d165b78bdf20"
      },
      "outputs": [
        {
          "output_type": "stream",
          "name": "stdout",
          "text": [
            "+--------------+-----+--------+---+---+\n",
            "|        tripid|delay|distance|src|dst|\n",
            "+--------------+-----+--------+---+---+\n",
            "|01 01 12:45 PM|    6|     602|ABE|ATL|\n",
            "|01 02 06:00 AM|   -8|     369|ABE|DTW|\n",
            "|01 02 12:45 PM|   -2|     602|ABE|ATL|\n",
            "|01 02 06:05 AM|   -4|     602|ABE|ATL|\n",
            "|01 03 12:45 PM|   -4|     602|ABE|ATL|\n",
            "|01 03 06:05 AM|    0|     602|ABE|ATL|\n",
            "|01 04 12:43 PM|   10|     602|ABE|ATL|\n",
            "|01 04 06:05 AM|   28|     602|ABE|ATL|\n",
            "|01 05 12:45 PM|   88|     602|ABE|ATL|\n",
            "|01 05 06:05 AM|    9|     602|ABE|ATL|\n",
            "|01 06 12:15 PM|   -6|     602|ABE|ATL|\n",
            "|01 06 05:25 PM|   69|     602|ABE|ATL|\n",
            "|01 06 12:30 PM|    0|     369|ABE|DTW|\n",
            "|01 06 06:25 AM|   -3|     602|ABE|ATL|\n",
            "|01 07 06:00 AM|    0|     369|ABE|DTW|\n",
            "|01 07 05:25 PM|    0|     602|ABE|ATL|\n",
            "|01 07 12:30 PM|    0|     369|ABE|DTW|\n",
            "|01 07 06:25 AM|    0|     602|ABE|ATL|\n",
            "|01 07 12:19 PM|    0|     569|ABE|ORD|\n",
            "|01 08 06:00 AM|    0|     369|ABE|DTW|\n",
            "+--------------+-----+--------+---+---+\n",
            "only showing top 20 rows\n",
            "\n"
          ]
        }
      ],
      "source": [
        "# rename src des\n",
        "\n",
        "Edge_df3 = Edge_df2.withColumnRenamed(\"origin\",\"src\").withColumnRenamed('destination','dst').withColumnRenamed('date','tripid')\n",
        "Edge_df3.show()"
      ]
    },
    {
      "cell_type": "markdown",
      "id": "260660dc",
      "metadata": {
        "id": "260660dc"
      },
      "source": [
        "### In the Vertix DataFrame:\n",
        "- Rename the <b>IATA</b> columns to become <b>id</b>."
      ]
    },
    {
      "cell_type": "code",
      "execution_count": null,
      "id": "42846969",
      "metadata": {
        "scrolled": false,
        "id": "42846969",
        "colab": {
          "base_uri": "https://localhost:8080/"
        },
        "outputId": "e148b002-b88a-499e-ac68-8cea3128249f"
      },
      "outputs": [
        {
          "output_type": "stream",
          "name": "stdout",
          "text": [
            "root\n",
            " |-- City: string (nullable = true)\n",
            " |-- State: string (nullable = true)\n",
            " |-- Country: string (nullable = true)\n",
            " |-- id: string (nullable = true)\n",
            "\n"
          ]
        }
      ],
      "source": [
        "Vertix_df3 = Vertix_df2.withColumnRenamed('IATA','id')\n",
        "Vertix_df3.printSchema()"
      ]
    },
    {
      "cell_type": "markdown",
      "id": "4b50a1fe",
      "metadata": {
        "id": "4b50a1fe"
      },
      "source": [
        "### Create GraphFrame from Vertix and Edges DataFrames"
      ]
    },
    {
      "cell_type": "code",
      "execution_count": null,
      "id": "72be9d09",
      "metadata": {
        "id": "72be9d09"
      },
      "outputs": [],
      "source": [
        "# Create a GraphFrame\n",
        "gf = GraphFrame(Vertix_df3,Edge_df3)"
      ]
    },
    {
      "cell_type": "code",
      "source": [
        "gf.vertices.show()\n",
        "gf.edges.show()"
      ],
      "metadata": {
        "colab": {
          "base_uri": "https://localhost:8080/"
        },
        "id": "Zd9Vt8E-LC-5",
        "outputId": "a8afe1f3-c574-4dff-cc5e-5c77ae606cd0"
      },
      "id": "Zd9Vt8E-LC-5",
      "execution_count": null,
      "outputs": [
        {
          "output_type": "stream",
          "name": "stdout",
          "text": [
            "+--------------+-------+-------+---+\n",
            "|          City|  State|Country| id|\n",
            "+--------------+-------+-------+---+\n",
            "|    Clarksburg|     WV|    USA|CKB|\n",
            "|    Fort Dodge|     IA|    USA|FOD|\n",
            "|       Redmond|     OR|    USA|RDM|\n",
            "|        Valdez|     AK|    USA|VDZ|\n",
            "|       Lebanon|     NH|    USA|LEB|\n",
            "|         Aspen|     CO|    USA|ASE|\n",
            "| Rouyn-Noranda|     PQ| Canada|YUY|\n",
            "|       Iqaluit|Nunavut| Canada|YFB|\n",
            "|       Toronto|     ON| Canada|YYZ|\n",
            "|    Dillingham|     AK|    USA|DLG|\n",
            "|   Fort Nelson|     BC| Canada|YYE|\n",
            "|      Pellston|     MI|    USA|PLN|\n",
            "|     St. Cloud|     MN|    USA|STC|\n",
            "|St. Petersburg|     FL|    USA|PIE|\n",
            "|    Great Bend|     KS|    USA|GBD|\n",
            "|          Hilo|     HI|    USA|Big|\n",
            "|       Kelowna|     BC| Canada|YLW|\n",
            "|       Bemidji|     MN|    USA|BJI|\n",
            "|        London|     ON| Canada|YXU|\n",
            "|      Longview|     TX|    USA|GGG|\n",
            "+--------------+-------+-------+---+\n",
            "only showing top 20 rows\n",
            "\n",
            "+--------------+-----+--------+---+---+\n",
            "|        tripid|delay|distance|src|dst|\n",
            "+--------------+-----+--------+---+---+\n",
            "|01 01 12:45 PM|    6|     602|ABE|ATL|\n",
            "|01 02 06:00 AM|   -8|     369|ABE|DTW|\n",
            "|01 02 12:45 PM|   -2|     602|ABE|ATL|\n",
            "|01 02 06:05 AM|   -4|     602|ABE|ATL|\n",
            "|01 03 12:45 PM|   -4|     602|ABE|ATL|\n",
            "|01 03 06:05 AM|    0|     602|ABE|ATL|\n",
            "|01 04 12:43 PM|   10|     602|ABE|ATL|\n",
            "|01 04 06:05 AM|   28|     602|ABE|ATL|\n",
            "|01 05 12:45 PM|   88|     602|ABE|ATL|\n",
            "|01 05 06:05 AM|    9|     602|ABE|ATL|\n",
            "|01 06 12:15 PM|   -6|     602|ABE|ATL|\n",
            "|01 06 05:25 PM|   69|     602|ABE|ATL|\n",
            "|01 06 12:30 PM|    0|     369|ABE|DTW|\n",
            "|01 06 06:25 AM|   -3|     602|ABE|ATL|\n",
            "|01 07 06:00 AM|    0|     369|ABE|DTW|\n",
            "|01 07 05:25 PM|    0|     602|ABE|ATL|\n",
            "|01 07 12:30 PM|    0|     369|ABE|DTW|\n",
            "|01 07 06:25 AM|    0|     602|ABE|ATL|\n",
            "|01 07 12:19 PM|    0|     569|ABE|ORD|\n",
            "|01 08 06:00 AM|    0|     369|ABE|DTW|\n",
            "+--------------+-----+--------+---+---+\n",
            "only showing top 20 rows\n",
            "\n"
          ]
        }
      ]
    },
    {
      "cell_type": "markdown",
      "id": "abd2ebc6",
      "metadata": {
        "id": "abd2ebc6"
      },
      "source": [
        "### Determine the number of airports"
      ]
    },
    {
      "cell_type": "code",
      "execution_count": null,
      "id": "f38688c9",
      "metadata": {
        "id": "f38688c9",
        "colab": {
          "base_uri": "https://localhost:8080/"
        },
        "outputId": "70ad28c4-d05f-457a-ac69-662a9ca0dbaf"
      },
      "outputs": [
        {
          "output_type": "execute_result",
          "data": {
            "text/plain": [
              "526"
            ]
          },
          "metadata": {},
          "execution_count": 21
        }
      ],
      "source": [
        "# count vertices  'the number of airports'\n",
        "gf.vertices.count()"
      ]
    },
    {
      "cell_type": "markdown",
      "id": "435187a8",
      "metadata": {
        "id": "435187a8"
      },
      "source": [
        "### Determine the number of trips"
      ]
    },
    {
      "cell_type": "code",
      "execution_count": null,
      "id": "db2a507d",
      "metadata": {
        "id": "db2a507d",
        "colab": {
          "base_uri": "https://localhost:8080/"
        },
        "outputId": "cc0db2b6-995c-49fd-b890-57945e92ca29"
      },
      "outputs": [
        {
          "output_type": "execute_result",
          "data": {
            "text/plain": [
              "1391578"
            ]
          },
          "metadata": {},
          "execution_count": 22
        }
      ],
      "source": [
        "gf.edges.count()"
      ]
    },
    {
      "cell_type": "markdown",
      "id": "dec8731f",
      "metadata": {
        "id": "dec8731f"
      },
      "source": [
        "### What is the longest delay?"
      ]
    },
    {
      "cell_type": "code",
      "execution_count": null,
      "id": "df3d6aac",
      "metadata": {
        "id": "df3d6aac",
        "colab": {
          "base_uri": "https://localhost:8080/"
        },
        "outputId": "9eea6636-b5cb-496d-94d7-a3a95173b0b9"
      },
      "outputs": [
        {
          "output_type": "stream",
          "name": "stdout",
          "text": [
            "+--------------+-----+--------+---+---+\n",
            "|        tripid|delay|distance|src|dst|\n",
            "+--------------+-----+--------+---+---+\n",
            "|01 09 06:00 AM|  995|     462|SMF|SLC|\n",
            "+--------------+-----+--------+---+---+\n",
            "\n"
          ]
        }
      ],
      "source": [
        "gf.edges.createOrReplaceTempView(\"trips\")\n",
        "logestdelay = spark.sql('select * from trips where delay = (select MAX(delay) from trips)')\n",
        "logestdelay.show()"
      ]
    },
    {
      "cell_type": "markdown",
      "id": "202d888c",
      "metadata": {
        "id": "202d888c"
      },
      "source": [
        "### Find out the number of delayed flights vs. early flights (flights that departed before actual time)"
      ]
    },
    {
      "cell_type": "code",
      "execution_count": null,
      "id": "7cdd7ff7",
      "metadata": {
        "id": "7cdd7ff7",
        "colab": {
          "base_uri": "https://localhost:8080/"
        },
        "outputId": "99ed888e-478f-4cb5-f57c-d97c83d7edeb"
      },
      "outputs": [
        {
          "output_type": "stream",
          "name": "stdout",
          "text": [
            "+---------------+\n",
            "|delayed_flights|\n",
            "+---------------+\n",
            "|         591727|\n",
            "+---------------+\n",
            "\n",
            "+-------------+\n",
            "|early_flights|\n",
            "+-------------+\n",
            "|       668729|\n",
            "+-------------+\n",
            "\n"
          ]
        }
      ],
      "source": [
        "spark.sql('select count(delay) as delayed_flights from trips where delay > 0').show()\n",
        "spark.sql('select count(delay) as early_flights from trips where delay < 0').show()\n",
        "# trips = gf.edges\n",
        "# trips.select(F.count(F.col('delay').when(F.col('delay')>0))).show()\n"
      ]
    },
    {
      "cell_type": "markdown",
      "id": "30961bc3",
      "metadata": {
        "id": "30961bc3"
      },
      "source": [
        "### What flight destinations departing SFO are most likely to have significant delays? Select the top 10\n",
        "#### Hint: you should get the average delay for each destination for trips that depart from SFO only"
      ]
    },
    {
      "cell_type": "code",
      "execution_count": null,
      "id": "afdc6842",
      "metadata": {
        "id": "afdc6842",
        "colab": {
          "base_uri": "https://localhost:8080/"
        },
        "outputId": "620f41ef-3b48-4dc6-c502-e138af3e9884"
      },
      "outputs": [
        {
          "output_type": "stream",
          "name": "stdout",
          "text": [
            "+---+------------------+\n",
            "|dst|         avg_delay|\n",
            "+---+------------------+\n",
            "|JAC| 30.78846153846154|\n",
            "|OKC|24.822222222222223|\n",
            "|SUN|22.696629213483146|\n",
            "|COS| 22.58888888888889|\n",
            "|SAT|             22.16|\n",
            "|STL|         20.203125|\n",
            "|HNL|19.982608695652175|\n",
            "|ASE|19.846153846153847|\n",
            "|CEC|19.089820359281436|\n",
            "|MDW|18.771929824561404|\n",
            "+---+------------------+\n",
            "\n"
          ]
        }
      ],
      "source": [
        "spark.sql('select dst, avg(delay) avg_delay from trips where src = \"SFO\" group by dst order by avg_delay desc LIMIT 10 ').show()"
      ]
    },
    {
      "cell_type": "markdown",
      "id": "71d46665",
      "metadata": {
        "id": "71d46665"
      },
      "source": [
        "### Find the Incoming connections to the airport sorted in Desc. order."
      ]
    },
    {
      "cell_type": "code",
      "execution_count": null,
      "id": "c28925c3",
      "metadata": {
        "id": "c28925c3",
        "colab": {
          "base_uri": "https://localhost:8080/"
        },
        "outputId": "82fadc3a-a688-44d0-bc75-b2839bb15826"
      },
      "outputs": [
        {
          "output_type": "stream",
          "name": "stdout",
          "text": [
            "+---+--------+\n",
            "| id|inDegree|\n",
            "+---+--------+\n",
            "|ATL|   90434|\n",
            "|DFW|   66050|\n",
            "|ORD|   61967|\n",
            "|LAX|   53601|\n",
            "|DEN|   50921|\n",
            "|IAH|   42700|\n",
            "|PHX|   39721|\n",
            "|SFO|   38988|\n",
            "|LAS|   32994|\n",
            "|CLT|   28388|\n",
            "|MCO|   27959|\n",
            "|EWR|   27652|\n",
            "|LGA|   25469|\n",
            "|BOS|   25360|\n",
            "|SLC|   25323|\n",
            "|JFK|   23484|\n",
            "|DTW|   23310|\n",
            "|SEA|   23074|\n",
            "|MSP|   22385|\n",
            "|MIA|   21805|\n",
            "+---+--------+\n",
            "only showing top 20 rows\n",
            "\n"
          ]
        }
      ],
      "source": [
        "gf.inDegrees.sort(F.col('inDegree').desc()).show()"
      ]
    },
    {
      "cell_type": "markdown",
      "id": "d1b6509d",
      "metadata": {
        "id": "d1b6509d"
      },
      "source": [
        "### Find the Outgoing connections from the airport sorted in Desc. order."
      ]
    },
    {
      "cell_type": "code",
      "execution_count": null,
      "id": "631af51d",
      "metadata": {
        "id": "631af51d",
        "colab": {
          "base_uri": "https://localhost:8080/"
        },
        "outputId": "67e12cda-60dc-470a-e7dd-9f5ca9c11af3"
      },
      "outputs": [
        {
          "output_type": "stream",
          "name": "stdout",
          "text": [
            "+---+---------+\n",
            "| id|outDegree|\n",
            "+---+---------+\n",
            "|ATL|    91484|\n",
            "|DFW|    68482|\n",
            "|ORD|    64228|\n",
            "|LAX|    54086|\n",
            "|DEN|    53148|\n",
            "|IAH|    43361|\n",
            "|PHX|    40155|\n",
            "|SFO|    39483|\n",
            "|LAS|    33107|\n",
            "|CLT|    28402|\n",
            "|MCO|    28313|\n",
            "|EWR|    27656|\n",
            "|SLC|    25868|\n",
            "|LGA|    25458|\n",
            "|BOS|    25348|\n",
            "|MSP|    24031|\n",
            "|JFK|    23572|\n",
            "|DTW|    23421|\n",
            "|SEA|    23078|\n",
            "|MIA|    21817|\n",
            "+---+---------+\n",
            "only showing top 20 rows\n",
            "\n"
          ]
        }
      ],
      "source": [
        "gf.outDegrees.sort(F.col('outDegree').desc()).show()"
      ]
    },
    {
      "cell_type": "markdown",
      "id": "fbec58ce",
      "metadata": {
        "id": "fbec58ce"
      },
      "source": [
        "### Use motif finding to answer this question: which delays could we blame on SFO?\n",
        "#### Hint: this practically means that SFO is a transit station"
      ]
    },
    {
      "cell_type": "code",
      "source": [
        "gf.vertices.select('*').where(F.col('id')=='SFO').show()"
      ],
      "metadata": {
        "colab": {
          "base_uri": "https://localhost:8080/"
        },
        "id": "SSLVU2fiKQ8t",
        "outputId": "72cd56a9-7160-4d5a-e314-0692af8c5bcc"
      },
      "id": "SSLVU2fiKQ8t",
      "execution_count": null,
      "outputs": [
        {
          "output_type": "stream",
          "name": "stdout",
          "text": [
            "+-------------+-----+-------+---+\n",
            "|         City|State|Country| id|\n",
            "+-------------+-----+-------+---+\n",
            "|San Francisco|   CA|    USA|SFO|\n",
            "+-------------+-----+-------+---+\n",
            "\n"
          ]
        }
      ]
    },
    {
      "cell_type": "code",
      "execution_count": null,
      "id": "db17f3df",
      "metadata": {
        "id": "db17f3df",
        "colab": {
          "base_uri": "https://localhost:8080/"
        },
        "outputId": "1462a45f-fc33-4adc-d469-6a006c541668"
      },
      "outputs": [
        {
          "output_type": "stream",
          "name": "stdout",
          "text": [
            "+--------------------+--------------------+--------------------+--------------------+--------------------+\n",
            "|                  v1|                  e1|                  v2|                  e2|                  v3|\n",
            "+--------------------+--------------------+--------------------+--------------------+--------------------+\n",
            "|[Albuquerque, NM,...|[01 01 06:00 AM, ...|[San Francisco, C...|[01 01 12:50 PM, ...|[New York, NY, US...|\n",
            "|[Albuquerque, NM,...|[01 01 06:00 AM, ...|[San Francisco, C...|[01 01 11:30 PM, ...|[Chicago, IL, USA...|\n",
            "|[Albuquerque, NM,...|[01 01 06:00 AM, ...|[San Francisco, C...|[01 01 12:50 PM, ...|[Los Angeles, CA,...|\n",
            "|[Albuquerque, NM,...|[01 01 06:00 AM, ...|[San Francisco, C...|[01 02 10:30 PM, ...|[New York, NY, US...|\n",
            "|[Albuquerque, NM,...|[01 01 06:00 AM, ...|[San Francisco, C...|[01 02 06:00 PM, ...|[Chicago, IL, USA...|\n",
            "|[Albuquerque, NM,...|[01 01 06:00 AM, ...|[San Francisco, C...|[01 02 05:40 PM, ...|[Los Angeles, CA,...|\n",
            "|[Albuquerque, NM,...|[01 01 06:00 AM, ...|[San Francisco, C...|[01 02 09:10 PM, ...|[Miami, FL, USA, ...|\n",
            "|[Albuquerque, NM,...|[01 01 06:00 AM, ...|[San Francisco, C...|[01 02 07:55 AM, ...|[Dallas, TX, USA,...|\n",
            "|[Albuquerque, NM,...|[01 01 06:00 AM, ...|[San Francisco, C...|[01 02 09:25 AM, ...|[Chicago, IL, USA...|\n",
            "|[Albuquerque, NM,...|[01 01 06:00 AM, ...|[San Francisco, C...|[01 02 11:30 PM, ...|[Chicago, IL, USA...|\n",
            "|[Albuquerque, NM,...|[01 01 06:00 AM, ...|[San Francisco, C...|[01 02 06:50 AM, ...|[Dallas, TX, USA,...|\n",
            "|[Albuquerque, NM,...|[01 01 06:00 AM, ...|[San Francisco, C...|[01 02 11:10 AM, ...|[Chicago, IL, USA...|\n",
            "|[Albuquerque, NM,...|[01 01 06:00 AM, ...|[San Francisco, C...|[01 02 02:25 PM, ...|[Dallas, TX, USA,...|\n",
            "|[Albuquerque, NM,...|[01 01 06:00 AM, ...|[San Francisco, C...|[01 02 02:10 PM, ...|[Chicago, IL, USA...|\n",
            "|[Albuquerque, NM,...|[01 01 06:00 AM, ...|[San Francisco, C...|[01 02 02:45 PM, ...|[Los Angeles, CA,...|\n",
            "|[Albuquerque, NM,...|[01 01 06:00 AM, ...|[San Francisco, C...|[01 03 10:30 PM, ...|[New York, NY, US...|\n",
            "|[Albuquerque, NM,...|[01 01 06:00 AM, ...|[San Francisco, C...|[01 03 04:10 PM, ...|[Dallas, TX, USA,...|\n",
            "|[Albuquerque, NM,...|[01 01 06:00 AM, ...|[San Francisco, C...|[01 03 05:05 PM, ...|[Dallas, TX, USA,...|\n",
            "|[Albuquerque, NM,...|[01 01 06:00 AM, ...|[San Francisco, C...|[01 03 07:55 AM, ...|[Dallas, TX, USA,...|\n",
            "|[Albuquerque, NM,...|[01 01 06:00 AM, ...|[San Francisco, C...|[01 03 11:05 AM, ...|[Dallas, TX, USA,...|\n",
            "+--------------------+--------------------+--------------------+--------------------+--------------------+\n",
            "only showing top 20 rows\n",
            "\n"
          ]
        }
      ],
      "source": [
        "gf.find('(v1)-[e1]->(v2); (v2)-[e2]->(v3)').filter('v2.id = \"SFO\"').filter(\"e2.delay > 0 and e1.tripid < e2.tripid \").show()"
      ]
    },
    {
      "cell_type": "markdown",
      "id": "cc1ece96",
      "metadata": {
        "id": "cc1ece96"
      },
      "source": [
        "### Determine Airport Ranking in Desc. order using PageRank algorithm"
      ]
    },
    {
      "cell_type": "code",
      "execution_count": null,
      "id": "f754d545",
      "metadata": {
        "id": "f754d545"
      },
      "outputs": [],
      "source": [
        "results = gf.pageRank(resetProbability=0.15, tol=0.01)\n",
        "results.vertices.sort(F.col('pagerank').desc())"
      ]
    },
    {
      "cell_type": "code",
      "source": [
        "# Run PageRank for a fixed number of iterations.\n",
        "results2 = gf.pageRank(resetProbability=0.15, maxIter=10)\n",
        "results2.vertices.select(\"id\", \"pagerank\").orderBy(F.col('pagerank').desc()).show()\n",
        "results2.edges.select(\"src\", \"dst\", \"weight\").orderBy(F.col('weight').desc()).show()"
      ],
      "metadata": {
        "id": "vzp-W8EjVCDy"
      },
      "id": "vzp-W8EjVCDy",
      "execution_count": null,
      "outputs": []
    },
    {
      "cell_type": "code",
      "source": [
        "# Run PageRank for a fixed number of iterations.\n",
        "results2 = gf.pageRank(resetProbability=0.15, maxIter=1)\n",
        "results2.vertices.select(\"id\", \"pagerank\").orderBy(F.col('pagerank').desc()).show()\n",
        "# results2.edges.select(\"src\", \"dst\", \"weight\").orderBy(F.col('weight').desc()).show()          takes alote time so i Interrupt the cell"
      ],
      "metadata": {
        "colab": {
          "base_uri": "https://localhost:8080/",
          "height": 796
        },
        "id": "n40YDBGgWgLJ",
        "outputId": "0ebc0d9a-fe7e-4eda-dd19-bfd9e054f39f"
      },
      "id": "n40YDBGgWgLJ",
      "execution_count": null,
      "outputs": [
        {
          "output_type": "stream",
          "name": "stdout",
          "text": [
            "+---+------------------+\n",
            "| id|          pagerank|\n",
            "+---+------------------+\n",
            "|ATL| 62.28632839654944|\n",
            "|ORD| 44.06337647956202|\n",
            "|DFW| 42.41461834274054|\n",
            "|DEN|24.566899524251205|\n",
            "|SLC|21.399649807268702|\n",
            "|IAH| 18.31010223532025|\n",
            "|SFO|15.130986857018405|\n",
            "|LAX|13.163274344786952|\n",
            "|DTW| 8.684035246961647|\n",
            "|MSP| 8.486961797527416|\n",
            "|PHX| 8.462238857908057|\n",
            "|ANC| 8.200096614014138|\n",
            "|MCO| 5.868513524955862|\n",
            "|BWI|  5.31626303947443|\n",
            "|EWR| 5.278279094524584|\n",
            "|LAS| 5.148502278654028|\n",
            "|SEA| 4.977235527650165|\n",
            "|LGA| 4.853188467143118|\n",
            "|CLT| 4.183169450963169|\n",
            "|JFK|  4.15166113414868|\n",
            "+---+------------------+\n",
            "only showing top 20 rows\n",
            "\n"
          ]
        },
        {
          "output_type": "error",
          "ename": "KeyboardInterrupt",
          "evalue": "ignored",
          "traceback": [
            "\u001b[0;31m---------------------------------------------------------------------------\u001b[0m",
            "\u001b[0;31mKeyboardInterrupt\u001b[0m                         Traceback (most recent call last)",
            "\u001b[0;32m<ipython-input-66-4d12cc37588b>\u001b[0m in \u001b[0;36m<module>\u001b[0;34m()\u001b[0m\n\u001b[1;32m      2\u001b[0m \u001b[0mresults2\u001b[0m \u001b[0;34m=\u001b[0m \u001b[0mgf\u001b[0m\u001b[0;34m.\u001b[0m\u001b[0mpageRank\u001b[0m\u001b[0;34m(\u001b[0m\u001b[0mresetProbability\u001b[0m\u001b[0;34m=\u001b[0m\u001b[0;36m0.15\u001b[0m\u001b[0;34m,\u001b[0m \u001b[0mmaxIter\u001b[0m\u001b[0;34m=\u001b[0m\u001b[0;36m1\u001b[0m\u001b[0;34m)\u001b[0m\u001b[0;34m\u001b[0m\u001b[0;34m\u001b[0m\u001b[0m\n\u001b[1;32m      3\u001b[0m \u001b[0mresults2\u001b[0m\u001b[0;34m.\u001b[0m\u001b[0mvertices\u001b[0m\u001b[0;34m.\u001b[0m\u001b[0mselect\u001b[0m\u001b[0;34m(\u001b[0m\u001b[0;34m\"id\"\u001b[0m\u001b[0;34m,\u001b[0m \u001b[0;34m\"pagerank\"\u001b[0m\u001b[0;34m)\u001b[0m\u001b[0;34m.\u001b[0m\u001b[0morderBy\u001b[0m\u001b[0;34m(\u001b[0m\u001b[0mF\u001b[0m\u001b[0;34m.\u001b[0m\u001b[0mcol\u001b[0m\u001b[0;34m(\u001b[0m\u001b[0;34m'pagerank'\u001b[0m\u001b[0;34m)\u001b[0m\u001b[0;34m.\u001b[0m\u001b[0mdesc\u001b[0m\u001b[0;34m(\u001b[0m\u001b[0;34m)\u001b[0m\u001b[0;34m)\u001b[0m\u001b[0;34m.\u001b[0m\u001b[0mshow\u001b[0m\u001b[0;34m(\u001b[0m\u001b[0;34m)\u001b[0m\u001b[0;34m\u001b[0m\u001b[0;34m\u001b[0m\u001b[0m\n\u001b[0;32m----> 4\u001b[0;31m \u001b[0mresults2\u001b[0m\u001b[0;34m.\u001b[0m\u001b[0medges\u001b[0m\u001b[0;34m.\u001b[0m\u001b[0mselect\u001b[0m\u001b[0;34m(\u001b[0m\u001b[0;34m\"src\"\u001b[0m\u001b[0;34m,\u001b[0m \u001b[0;34m\"dst\"\u001b[0m\u001b[0;34m,\u001b[0m \u001b[0;34m\"weight\"\u001b[0m\u001b[0;34m)\u001b[0m\u001b[0;34m.\u001b[0m\u001b[0morderBy\u001b[0m\u001b[0;34m(\u001b[0m\u001b[0mF\u001b[0m\u001b[0;34m.\u001b[0m\u001b[0mcol\u001b[0m\u001b[0;34m(\u001b[0m\u001b[0;34m'weight'\u001b[0m\u001b[0;34m)\u001b[0m\u001b[0;34m.\u001b[0m\u001b[0mdesc\u001b[0m\u001b[0;34m(\u001b[0m\u001b[0;34m)\u001b[0m\u001b[0;34m)\u001b[0m\u001b[0;34m.\u001b[0m\u001b[0mshow\u001b[0m\u001b[0;34m(\u001b[0m\u001b[0;34m)\u001b[0m\u001b[0;34m\u001b[0m\u001b[0;34m\u001b[0m\u001b[0m\n\u001b[0m",
            "\u001b[0;32m/content/spark-3.0.2-bin-hadoop2.7/python/pyspark/sql/dataframe.py\u001b[0m in \u001b[0;36mshow\u001b[0;34m(self, n, truncate, vertical)\u001b[0m\n\u001b[1;32m    438\u001b[0m         \"\"\"\n\u001b[1;32m    439\u001b[0m         \u001b[0;32mif\u001b[0m \u001b[0misinstance\u001b[0m\u001b[0;34m(\u001b[0m\u001b[0mtruncate\u001b[0m\u001b[0;34m,\u001b[0m \u001b[0mbool\u001b[0m\u001b[0;34m)\u001b[0m \u001b[0;32mand\u001b[0m \u001b[0mtruncate\u001b[0m\u001b[0;34m:\u001b[0m\u001b[0;34m\u001b[0m\u001b[0;34m\u001b[0m\u001b[0m\n\u001b[0;32m--> 440\u001b[0;31m             \u001b[0mprint\u001b[0m\u001b[0;34m(\u001b[0m\u001b[0mself\u001b[0m\u001b[0;34m.\u001b[0m\u001b[0m_jdf\u001b[0m\u001b[0;34m.\u001b[0m\u001b[0mshowString\u001b[0m\u001b[0;34m(\u001b[0m\u001b[0mn\u001b[0m\u001b[0;34m,\u001b[0m \u001b[0;36m20\u001b[0m\u001b[0;34m,\u001b[0m \u001b[0mvertical\u001b[0m\u001b[0;34m)\u001b[0m\u001b[0;34m)\u001b[0m\u001b[0;34m\u001b[0m\u001b[0;34m\u001b[0m\u001b[0m\n\u001b[0m\u001b[1;32m    441\u001b[0m         \u001b[0;32melse\u001b[0m\u001b[0;34m:\u001b[0m\u001b[0;34m\u001b[0m\u001b[0;34m\u001b[0m\u001b[0m\n\u001b[1;32m    442\u001b[0m             \u001b[0mprint\u001b[0m\u001b[0;34m(\u001b[0m\u001b[0mself\u001b[0m\u001b[0;34m.\u001b[0m\u001b[0m_jdf\u001b[0m\u001b[0;34m.\u001b[0m\u001b[0mshowString\u001b[0m\u001b[0;34m(\u001b[0m\u001b[0mn\u001b[0m\u001b[0;34m,\u001b[0m \u001b[0mint\u001b[0m\u001b[0;34m(\u001b[0m\u001b[0mtruncate\u001b[0m\u001b[0;34m)\u001b[0m\u001b[0;34m,\u001b[0m \u001b[0mvertical\u001b[0m\u001b[0;34m)\u001b[0m\u001b[0;34m)\u001b[0m\u001b[0;34m\u001b[0m\u001b[0;34m\u001b[0m\u001b[0m\n",
            "\u001b[0;32m/content/spark-3.0.2-bin-hadoop2.7/python/lib/py4j-0.10.9-src.zip/py4j/java_gateway.py\u001b[0m in \u001b[0;36m__call__\u001b[0;34m(self, *args)\u001b[0m\n\u001b[1;32m   1301\u001b[0m             \u001b[0mproto\u001b[0m\u001b[0;34m.\u001b[0m\u001b[0mEND_COMMAND_PART\u001b[0m\u001b[0;34m\u001b[0m\u001b[0;34m\u001b[0m\u001b[0m\n\u001b[1;32m   1302\u001b[0m \u001b[0;34m\u001b[0m\u001b[0m\n\u001b[0;32m-> 1303\u001b[0;31m         \u001b[0manswer\u001b[0m \u001b[0;34m=\u001b[0m \u001b[0mself\u001b[0m\u001b[0;34m.\u001b[0m\u001b[0mgateway_client\u001b[0m\u001b[0;34m.\u001b[0m\u001b[0msend_command\u001b[0m\u001b[0;34m(\u001b[0m\u001b[0mcommand\u001b[0m\u001b[0;34m)\u001b[0m\u001b[0;34m\u001b[0m\u001b[0;34m\u001b[0m\u001b[0m\n\u001b[0m\u001b[1;32m   1304\u001b[0m         return_value = get_return_value(\n\u001b[1;32m   1305\u001b[0m             answer, self.gateway_client, self.target_id, self.name)\n",
            "\u001b[0;32m/content/spark-3.0.2-bin-hadoop2.7/python/lib/py4j-0.10.9-src.zip/py4j/java_gateway.py\u001b[0m in \u001b[0;36msend_command\u001b[0;34m(self, command, retry, binary)\u001b[0m\n\u001b[1;32m   1031\u001b[0m         \u001b[0mconnection\u001b[0m \u001b[0;34m=\u001b[0m \u001b[0mself\u001b[0m\u001b[0;34m.\u001b[0m\u001b[0m_get_connection\u001b[0m\u001b[0;34m(\u001b[0m\u001b[0;34m)\u001b[0m\u001b[0;34m\u001b[0m\u001b[0;34m\u001b[0m\u001b[0m\n\u001b[1;32m   1032\u001b[0m         \u001b[0;32mtry\u001b[0m\u001b[0;34m:\u001b[0m\u001b[0;34m\u001b[0m\u001b[0;34m\u001b[0m\u001b[0m\n\u001b[0;32m-> 1033\u001b[0;31m             \u001b[0mresponse\u001b[0m \u001b[0;34m=\u001b[0m \u001b[0mconnection\u001b[0m\u001b[0;34m.\u001b[0m\u001b[0msend_command\u001b[0m\u001b[0;34m(\u001b[0m\u001b[0mcommand\u001b[0m\u001b[0;34m)\u001b[0m\u001b[0;34m\u001b[0m\u001b[0;34m\u001b[0m\u001b[0m\n\u001b[0m\u001b[1;32m   1034\u001b[0m             \u001b[0;32mif\u001b[0m \u001b[0mbinary\u001b[0m\u001b[0;34m:\u001b[0m\u001b[0;34m\u001b[0m\u001b[0;34m\u001b[0m\u001b[0m\n\u001b[1;32m   1035\u001b[0m                 \u001b[0;32mreturn\u001b[0m \u001b[0mresponse\u001b[0m\u001b[0;34m,\u001b[0m \u001b[0mself\u001b[0m\u001b[0;34m.\u001b[0m\u001b[0m_create_connection_guard\u001b[0m\u001b[0;34m(\u001b[0m\u001b[0mconnection\u001b[0m\u001b[0;34m)\u001b[0m\u001b[0;34m\u001b[0m\u001b[0;34m\u001b[0m\u001b[0m\n",
            "\u001b[0;32m/content/spark-3.0.2-bin-hadoop2.7/python/lib/py4j-0.10.9-src.zip/py4j/java_gateway.py\u001b[0m in \u001b[0;36msend_command\u001b[0;34m(self, command)\u001b[0m\n\u001b[1;32m   1198\u001b[0m \u001b[0;34m\u001b[0m\u001b[0m\n\u001b[1;32m   1199\u001b[0m         \u001b[0;32mtry\u001b[0m\u001b[0;34m:\u001b[0m\u001b[0;34m\u001b[0m\u001b[0;34m\u001b[0m\u001b[0m\n\u001b[0;32m-> 1200\u001b[0;31m             \u001b[0manswer\u001b[0m \u001b[0;34m=\u001b[0m \u001b[0msmart_decode\u001b[0m\u001b[0;34m(\u001b[0m\u001b[0mself\u001b[0m\u001b[0;34m.\u001b[0m\u001b[0mstream\u001b[0m\u001b[0;34m.\u001b[0m\u001b[0mreadline\u001b[0m\u001b[0;34m(\u001b[0m\u001b[0;34m)\u001b[0m\u001b[0;34m[\u001b[0m\u001b[0;34m:\u001b[0m\u001b[0;34m-\u001b[0m\u001b[0;36m1\u001b[0m\u001b[0;34m]\u001b[0m\u001b[0;34m)\u001b[0m\u001b[0;34m\u001b[0m\u001b[0;34m\u001b[0m\u001b[0m\n\u001b[0m\u001b[1;32m   1201\u001b[0m             \u001b[0mlogger\u001b[0m\u001b[0;34m.\u001b[0m\u001b[0mdebug\u001b[0m\u001b[0;34m(\u001b[0m\u001b[0;34m\"Answer received: {0}\"\u001b[0m\u001b[0;34m.\u001b[0m\u001b[0mformat\u001b[0m\u001b[0;34m(\u001b[0m\u001b[0manswer\u001b[0m\u001b[0;34m)\u001b[0m\u001b[0;34m)\u001b[0m\u001b[0;34m\u001b[0m\u001b[0;34m\u001b[0m\u001b[0m\n\u001b[1;32m   1202\u001b[0m             \u001b[0;32mif\u001b[0m \u001b[0manswer\u001b[0m\u001b[0;34m.\u001b[0m\u001b[0mstartswith\u001b[0m\u001b[0;34m(\u001b[0m\u001b[0mproto\u001b[0m\u001b[0;34m.\u001b[0m\u001b[0mRETURN_MESSAGE\u001b[0m\u001b[0;34m)\u001b[0m\u001b[0;34m:\u001b[0m\u001b[0;34m\u001b[0m\u001b[0;34m\u001b[0m\u001b[0m\n",
            "\u001b[0;32m/usr/lib/python3.7/socket.py\u001b[0m in \u001b[0;36mreadinto\u001b[0;34m(self, b)\u001b[0m\n\u001b[1;32m    587\u001b[0m         \u001b[0;32mwhile\u001b[0m \u001b[0;32mTrue\u001b[0m\u001b[0;34m:\u001b[0m\u001b[0;34m\u001b[0m\u001b[0;34m\u001b[0m\u001b[0m\n\u001b[1;32m    588\u001b[0m             \u001b[0;32mtry\u001b[0m\u001b[0;34m:\u001b[0m\u001b[0;34m\u001b[0m\u001b[0;34m\u001b[0m\u001b[0m\n\u001b[0;32m--> 589\u001b[0;31m                 \u001b[0;32mreturn\u001b[0m \u001b[0mself\u001b[0m\u001b[0;34m.\u001b[0m\u001b[0m_sock\u001b[0m\u001b[0;34m.\u001b[0m\u001b[0mrecv_into\u001b[0m\u001b[0;34m(\u001b[0m\u001b[0mb\u001b[0m\u001b[0;34m)\u001b[0m\u001b[0;34m\u001b[0m\u001b[0;34m\u001b[0m\u001b[0m\n\u001b[0m\u001b[1;32m    590\u001b[0m             \u001b[0;32mexcept\u001b[0m \u001b[0mtimeout\u001b[0m\u001b[0;34m:\u001b[0m\u001b[0;34m\u001b[0m\u001b[0;34m\u001b[0m\u001b[0m\n\u001b[1;32m    591\u001b[0m                 \u001b[0mself\u001b[0m\u001b[0;34m.\u001b[0m\u001b[0m_timeout_occurred\u001b[0m \u001b[0;34m=\u001b[0m \u001b[0;32mTrue\u001b[0m\u001b[0;34m\u001b[0m\u001b[0;34m\u001b[0m\u001b[0m\n",
            "\u001b[0;31mKeyboardInterrupt\u001b[0m: "
          ]
        }
      ]
    },
    {
      "cell_type": "markdown",
      "id": "fe1e7648",
      "metadata": {
        "id": "fe1e7648"
      },
      "source": [
        "## Determine the most popular flights (single city hops)"
      ]
    },
    {
      "cell_type": "code",
      "execution_count": null,
      "id": "da4b3306",
      "metadata": {
        "id": "da4b3306"
      },
      "outputs": [],
      "source": []
    },
    {
      "cell_type": "markdown",
      "id": "8ebb5e18",
      "metadata": {
        "id": "8ebb5e18"
      },
      "source": [
        "### Find and Save a Subragph that obtained from the following pattern:\n",
        "#### The flight starts from an airport and return back to the same airport through 2 other airports."
      ]
    },
    {
      "cell_type": "code",
      "execution_count": null,
      "id": "00361946",
      "metadata": {
        "id": "00361946"
      },
      "outputs": [],
      "source": [
        "m5 = gf.find('(v1)-[]->(v2);(v2)-[]->(v3);(v3)-[]->(v4)').filter('v1.id == v4.id')\n",
        "m5.show()                   # it takes more than 1 hour so i Interrupt the cell :)"
      ]
    },
    {
      "cell_type": "code",
      "source": [
        "results = gf.triangleCount()\n",
        "results.select(\"id\", \"count\").show(2)"
      ],
      "metadata": {
        "id": "yyZ1BgZ_kU8x"
      },
      "id": "yyZ1BgZ_kU8x",
      "execution_count": null,
      "outputs": []
    },
    {
      "cell_type": "code",
      "source": [
        "# Save vertices and edges as Parquet to some location.\n",
        "gf.vertices.write.parquet(\"vertices\")\n",
        "gf.edges.write.parquet(\"edges\")"
      ],
      "metadata": {
        "id": "sT6JOsBZixuc"
      },
      "id": "sT6JOsBZixuc",
      "execution_count": null,
      "outputs": []
    }
  ],
  "metadata": {
    "kernelspec": {
      "display_name": "Python 3 (ipykernel)",
      "language": "python",
      "name": "python3"
    },
    "language_info": {
      "codemirror_mode": {
        "name": "ipython",
        "version": 3
      },
      "file_extension": ".py",
      "mimetype": "text/x-python",
      "name": "python",
      "nbconvert_exporter": "python",
      "pygments_lexer": "ipython3",
      "version": "3.9.12"
    },
    "colab": {
      "provenance": [],
      "include_colab_link": true
    }
  },
  "nbformat": 4,
  "nbformat_minor": 5
}