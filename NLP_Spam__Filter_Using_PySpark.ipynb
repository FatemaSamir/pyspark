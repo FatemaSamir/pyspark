{
  "cells": [
    {
      "cell_type": "markdown",
      "metadata": {
        "id": "view-in-github",
        "colab_type": "text"
      },
      "source": [
        "<a href=\"https://colab.research.google.com/github/FatemaSamir/pyspark/blob/main/NLP_Spam__Filter_Using_PySpark.ipynb\" target=\"_parent\"><img src=\"https://colab.research.google.com/assets/colab-badge.svg\" alt=\"Open In Colab\"/></a>"
      ]
    },
    {
      "cell_type": "markdown",
      "id": "c9da32d6",
      "metadata": {
        "id": "c9da32d6"
      },
      "source": [
        "# NLP Using PySpark"
      ]
    },
    {
      "cell_type": "markdown",
      "source": [
        "## Auther : Fatema Samir\n",
        "## Date : 19/7/2022"
      ],
      "metadata": {
        "id": "obf3Vmkz0XqL"
      },
      "id": "obf3Vmkz0XqL"
    },
    {
      "cell_type": "markdown",
      "source": [
        "##### **Good luck with taking your exam. Keep working and make your dreams all come true. Seeing the results of all of your hard work will make this struggle worth it. We’re all thinking of you.** \n",
        "<b><font color='blue'>AI-PRO Spark Team ITI</font></b>"
      ],
      "metadata": {
        "id": "ErBaDI-E1Ab1"
      },
      "id": "ErBaDI-E1Ab1"
    },
    {
      "cell_type": "markdown",
      "id": "8326ba88",
      "metadata": {
        "id": "8326ba88"
      },
      "source": [
        "## Objective:\n",
        "- The objective from this project is to create a <b>Spam filter using NaiveBayes classifier</b>.\n",
        "- It is required to obtain <b>f1_scored > 0.9</b>.\n",
        "- We'll use a dataset from UCI Repository. SMS Spam Detection: https://archive.ics.uci.edu/ml/datasets/SMS+Spam+Collection\n",
        "- Data is also provided for you in the assignment (you do not have to download it)."
      ]
    },
    {
      "cell_type": "markdown",
      "id": "6971f788",
      "metadata": {
        "id": "6971f788"
      },
      "source": [
        "## To perform this task follow the following guiding steps:"
      ]
    },
    {
      "cell_type": "markdown",
      "id": "e31bc851",
      "metadata": {
        "id": "e31bc851"
      },
      "source": [
        "### Create a spark session and import the required libraries"
      ]
    },
    {
      "cell_type": "code",
      "source": [
        "!pip install pyspark"
      ],
      "metadata": {
        "colab": {
          "base_uri": "https://localhost:8080/"
        },
        "id": "6HCXcTVCi7Fq",
        "outputId": "71460ae9-4c64-4134-a655-079713ca7518"
      },
      "id": "6HCXcTVCi7Fq",
      "execution_count": null,
      "outputs": [
        {
          "output_type": "stream",
          "name": "stdout",
          "text": [
            "Looking in indexes: https://pypi.org/simple, https://us-python.pkg.dev/colab-wheels/public/simple/\n",
            "Collecting pyspark\n",
            "  Downloading pyspark-3.3.0.tar.gz (281.3 MB)\n",
            "\u001b[K     |████████████████████████████████| 281.3 MB 44 kB/s \n",
            "\u001b[?25hCollecting py4j==0.10.9.5\n",
            "  Downloading py4j-0.10.9.5-py2.py3-none-any.whl (199 kB)\n",
            "\u001b[K     |████████████████████████████████| 199 kB 57.5 MB/s \n",
            "\u001b[?25hBuilding wheels for collected packages: pyspark\n",
            "  Building wheel for pyspark (setup.py) ... \u001b[?25l\u001b[?25hdone\n",
            "  Created wheel for pyspark: filename=pyspark-3.3.0-py2.py3-none-any.whl size=281764026 sha256=9378784855590e09f8f2e883b74ec438fabdc0411bb365908dcd87d8b2c2458a\n",
            "  Stored in directory: /root/.cache/pip/wheels/7a/8e/1b/f73a52650d2e5f337708d9f6a1750d451a7349a867f928b885\n",
            "Successfully built pyspark\n",
            "Installing collected packages: py4j, pyspark\n",
            "Successfully installed py4j-0.10.9.5 pyspark-3.3.0\n"
          ]
        }
      ]
    },
    {
      "cell_type": "code",
      "execution_count": null,
      "id": "dcf86e46",
      "metadata": {
        "id": "dcf86e46"
      },
      "outputs": [],
      "source": [
        "from pyspark.sql import SparkSession \n",
        "import pyspark.sql.functions as F"
      ]
    },
    {
      "cell_type": "code",
      "source": [
        "spark = SparkSession.builder.appName('NLP_Project').getOrCreate() # intery point"
      ],
      "metadata": {
        "id": "5byGiWb1jHZZ"
      },
      "id": "5byGiWb1jHZZ",
      "execution_count": null,
      "outputs": []
    },
    {
      "cell_type": "code",
      "source": [
        "from IPython.display import display, HTML\n",
        "display(HTML(\"<style>pre { white-space: pre !important; }</style>\"))"
      ],
      "metadata": {
        "colab": {
          "base_uri": "https://localhost:8080/",
          "height": 17
        },
        "id": "6Tz_yzUxjf0P",
        "outputId": "5844dead-df7c-4aad-ae5d-c9197a86a397"
      },
      "id": "6Tz_yzUxjf0P",
      "execution_count": null,
      "outputs": [
        {
          "output_type": "display_data",
          "data": {
            "text/plain": [
              "<IPython.core.display.HTML object>"
            ],
            "text/html": [
              "<style>pre { white-space: pre !important; }</style>"
            ]
          },
          "metadata": {}
        }
      ]
    },
    {
      "cell_type": "markdown",
      "id": "90c7df9e",
      "metadata": {
        "id": "90c7df9e"
      },
      "source": [
        "### Read the readme file to learn more about the data"
      ]
    },
    {
      "cell_type": "markdown",
      "id": "2d00718f",
      "metadata": {
        "id": "2d00718f"
      },
      "source": [
        "### Read the data into a DataFrame"
      ]
    },
    {
      "cell_type": "code",
      "execution_count": null,
      "id": "29914cf1",
      "metadata": {
        "id": "29914cf1",
        "colab": {
          "base_uri": "https://localhost:8080/"
        },
        "outputId": "b4148625-b69b-45f0-f1a2-acaeda9e5f14"
      },
      "outputs": [
        {
          "output_type": "stream",
          "name": "stdout",
          "text": [
            "+--------------------+\n",
            "|               value|\n",
            "+--------------------+\n",
            "|ham\\tGo until jur...|\n",
            "|ham\\tOk lar... Jo...|\n",
            "|spam\\tFree entry ...|\n",
            "|ham\\tU dun say so...|\n",
            "|ham\\tNah I don't ...|\n",
            "|spam\\tFreeMsg Hey...|\n",
            "|ham\\tEven my brot...|\n",
            "|ham\\tAs per your ...|\n",
            "|spam\\tWINNER!! As...|\n",
            "|spam\\tHad your mo...|\n",
            "|ham\\tI'm gonna be...|\n",
            "|spam\\tSIX chances...|\n",
            "|spam\\tURGENT! You...|\n",
            "|ham\\tI've been se...|\n",
            "|ham\\tI HAVE A DAT...|\n",
            "|spam\\tXXXMobileMo...|\n",
            "|ham\\tOh k...i'm w...|\n",
            "|ham\\tEh u remembe...|\n",
            "|ham\\tFine if that...|\n",
            "|spam\\tEngland v M...|\n",
            "+--------------------+\n",
            "only showing top 20 rows\n",
            "\n"
          ]
        }
      ],
      "source": [
        "df = spark.read.option('sep','\\t').text('/content/SMSSpamCollection.txt')\n",
        "df.show()"
      ]
    },
    {
      "cell_type": "code",
      "source": [
        "df = spark.read.option('sep','\\t').csv('/content/SMSSpamCollection.txt',inferSchema=True)\n",
        "df.show()"
      ],
      "metadata": {
        "colab": {
          "base_uri": "https://localhost:8080/"
        },
        "id": "k3SyWsmrkPDq",
        "outputId": "1fde455e-5624-458b-c125-9c25c41af0e6"
      },
      "id": "k3SyWsmrkPDq",
      "execution_count": null,
      "outputs": [
        {
          "output_type": "stream",
          "name": "stdout",
          "text": [
            "+----+--------------------+\n",
            "| _c0|                 _c1|\n",
            "+----+--------------------+\n",
            "| ham|Go until jurong p...|\n",
            "| ham|Ok lar... Joking ...|\n",
            "|spam|Free entry in 2 a...|\n",
            "| ham|U dun say so earl...|\n",
            "| ham|Nah I don't think...|\n",
            "|spam|FreeMsg Hey there...|\n",
            "| ham|Even my brother i...|\n",
            "| ham|As per your reque...|\n",
            "|spam|WINNER!! As a val...|\n",
            "|spam|Had your mobile 1...|\n",
            "| ham|I'm gonna be home...|\n",
            "|spam|SIX chances to wi...|\n",
            "|spam|URGENT! You have ...|\n",
            "| ham|I've been searchi...|\n",
            "| ham|I HAVE A DATE ON ...|\n",
            "|spam|XXXMobileMovieClu...|\n",
            "| ham|Oh k...i'm watchi...|\n",
            "| ham|Eh u remember how...|\n",
            "| ham|Fine if thats th...|\n",
            "|spam|England v Macedon...|\n",
            "+----+--------------------+\n",
            "only showing top 20 rows\n",
            "\n"
          ]
        }
      ]
    },
    {
      "cell_type": "markdown",
      "id": "182cd7f6",
      "metadata": {
        "id": "182cd7f6"
      },
      "source": [
        "### Print the schema"
      ]
    },
    {
      "cell_type": "code",
      "source": [
        "df.printSchema()"
      ],
      "metadata": {
        "colab": {
          "base_uri": "https://localhost:8080/"
        },
        "id": "coNiOUWpk0Kf",
        "outputId": "5348d626-f658-4b30-84f1-4e0cc83e47fe"
      },
      "id": "coNiOUWpk0Kf",
      "execution_count": null,
      "outputs": [
        {
          "output_type": "stream",
          "name": "stdout",
          "text": [
            "root\n",
            " |-- _c0: string (nullable = true)\n",
            " |-- _c1: string (nullable = true)\n",
            "\n"
          ]
        }
      ]
    },
    {
      "cell_type": "markdown",
      "id": "2b90cce7",
      "metadata": {
        "id": "2b90cce7"
      },
      "source": [
        "### Rename the first column to 'class' and second column to 'text'"
      ]
    },
    {
      "cell_type": "code",
      "execution_count": null,
      "id": "62a544fc",
      "metadata": {
        "id": "62a544fc",
        "colab": {
          "base_uri": "https://localhost:8080/"
        },
        "outputId": "c3908248-6638-42e3-e8b7-efd056543dcf"
      },
      "outputs": [
        {
          "output_type": "stream",
          "name": "stdout",
          "text": [
            "root\n",
            " |-- class: string (nullable = true)\n",
            " |-- text: string (nullable = true)\n",
            "\n"
          ]
        }
      ],
      "source": [
        "df_1 = df.withColumnRenamed('_c0','class').withColumnRenamed('_c1','text')\n",
        "df_1.printSchema()"
      ]
    },
    {
      "cell_type": "markdown",
      "id": "a3e798d0",
      "metadata": {
        "id": "a3e798d0"
      },
      "source": [
        "### Show the first 10 rows from the dataframe\n",
        "- Show once with truncate=True and once with truncate=False"
      ]
    },
    {
      "cell_type": "code",
      "source": [
        "df_1.show(10)"
      ],
      "metadata": {
        "colab": {
          "base_uri": "https://localhost:8080/"
        },
        "id": "aYd8Fri7lfdW",
        "outputId": "5cee1e1a-99a7-4dd4-86c5-d09511dd4737"
      },
      "id": "aYd8Fri7lfdW",
      "execution_count": null,
      "outputs": [
        {
          "output_type": "stream",
          "name": "stdout",
          "text": [
            "+-----+--------------------+\n",
            "|class|                text|\n",
            "+-----+--------------------+\n",
            "|  ham|Go until jurong p...|\n",
            "|  ham|Ok lar... Joking ...|\n",
            "| spam|Free entry in 2 a...|\n",
            "|  ham|U dun say so earl...|\n",
            "|  ham|Nah I don't think...|\n",
            "| spam|FreeMsg Hey there...|\n",
            "|  ham|Even my brother i...|\n",
            "|  ham|As per your reque...|\n",
            "| spam|WINNER!! As a val...|\n",
            "| spam|Had your mobile 1...|\n",
            "+-----+--------------------+\n",
            "only showing top 10 rows\n",
            "\n"
          ]
        }
      ]
    },
    {
      "cell_type": "code",
      "source": [
        "df_1.show(10,truncate=False)"
      ],
      "metadata": {
        "colab": {
          "base_uri": "https://localhost:8080/"
        },
        "id": "AXdACn3XlrK_",
        "outputId": "048a220c-6990-4a29-da73-f6d238fb26a1"
      },
      "id": "AXdACn3XlrK_",
      "execution_count": null,
      "outputs": [
        {
          "output_type": "stream",
          "name": "stdout",
          "text": [
            "+-----+----------------------------------------------------------------------------------------------------------------------------------------------------------------+\n",
            "|class|text                                                                                                                                                            |\n",
            "+-----+----------------------------------------------------------------------------------------------------------------------------------------------------------------+\n",
            "|ham  |Go until jurong point, crazy.. Available only in bugis n great world la e buffet... Cine there got amore wat...                                                 |\n",
            "|ham  |Ok lar... Joking wif u oni...                                                                                                                                   |\n",
            "|spam |Free entry in 2 a wkly comp to win FA Cup final tkts 21st May 2005. Text FA to 87121 to receive entry question(std txt rate)T&C's apply 08452810075over18's     |\n",
            "|ham  |U dun say so early hor... U c already then say...                                                                                                               |\n",
            "|ham  |Nah I don't think he goes to usf, he lives around here though                                                                                                   |\n",
            "|spam |FreeMsg Hey there darling it's been 3 week's now and no word back! I'd like some fun you up for it still? Tb ok! XxX std chgs to send, £1.50 to rcv             |\n",
            "|ham  |Even my brother is not like to speak with me. They treat me like aids patent.                                                                                   |\n",
            "|ham  |As per your request 'Melle Melle (Oru Minnaminunginte Nurungu Vettam)' has been set as your callertune for all Callers. Press *9 to copy your friends Callertune|\n",
            "|spam |WINNER!! As a valued network customer you have been selected to receivea £900 prize reward! To claim call 09061701461. Claim code KL341. Valid 12 hours only.   |\n",
            "|spam |Had your mobile 11 months or more? U R entitled to Update to the latest colour mobiles with camera for Free! Call The Mobile Update Co FREE on 08002986030      |\n",
            "+-----+----------------------------------------------------------------------------------------------------------------------------------------------------------------+\n",
            "only showing top 10 rows\n",
            "\n"
          ]
        }
      ]
    },
    {
      "cell_type": "markdown",
      "id": "2fe744a9",
      "metadata": {
        "id": "2fe744a9"
      },
      "source": [
        "## Clean and Prepare the Data"
      ]
    },
    {
      "cell_type": "markdown",
      "id": "4d693167",
      "metadata": {
        "id": "4d693167"
      },
      "source": [
        "### Create a new feature column contains the length of the text column"
      ]
    },
    {
      "cell_type": "code",
      "execution_count": null,
      "id": "5424a0cb",
      "metadata": {
        "id": "5424a0cb",
        "colab": {
          "base_uri": "https://localhost:8080/"
        },
        "outputId": "b667d2d5-87c7-4076-d863-d0b47fa98e58"
      },
      "outputs": [
        {
          "output_type": "stream",
          "name": "stdout",
          "text": [
            "root\n",
            " |-- class: string (nullable = true)\n",
            " |-- text: string (nullable = true)\n",
            " |-- length: integer (nullable = true)\n",
            "\n"
          ]
        }
      ],
      "source": [
        "df_2 = df_1.withColumn('length',F.length(F.col('text')))\n",
        "df_2.printSchema()"
      ]
    },
    {
      "cell_type": "markdown",
      "id": "78ea2de6",
      "metadata": {
        "id": "78ea2de6"
      },
      "source": [
        "### Show the new dataframe"
      ]
    },
    {
      "cell_type": "code",
      "source": [
        "df_2.show()"
      ],
      "metadata": {
        "colab": {
          "base_uri": "https://localhost:8080/"
        },
        "id": "xlc2vhRdmleM",
        "outputId": "8bea16fd-d129-40cb-b9ed-d9c7bc9c0340"
      },
      "id": "xlc2vhRdmleM",
      "execution_count": null,
      "outputs": [
        {
          "output_type": "stream",
          "name": "stdout",
          "text": [
            "+-----+--------------------+------+\n",
            "|class|                text|length|\n",
            "+-----+--------------------+------+\n",
            "|  ham|Go until jurong p...|   111|\n",
            "|  ham|Ok lar... Joking ...|    29|\n",
            "| spam|Free entry in 2 a...|   155|\n",
            "|  ham|U dun say so earl...|    49|\n",
            "|  ham|Nah I don't think...|    61|\n",
            "| spam|FreeMsg Hey there...|   147|\n",
            "|  ham|Even my brother i...|    77|\n",
            "|  ham|As per your reque...|   160|\n",
            "| spam|WINNER!! As a val...|   157|\n",
            "| spam|Had your mobile 1...|   154|\n",
            "|  ham|I'm gonna be home...|   109|\n",
            "| spam|SIX chances to wi...|   136|\n",
            "| spam|URGENT! You have ...|   155|\n",
            "|  ham|I've been searchi...|   196|\n",
            "|  ham|I HAVE A DATE ON ...|    35|\n",
            "| spam|XXXMobileMovieClu...|   149|\n",
            "|  ham|Oh k...i'm watchi...|    26|\n",
            "|  ham|Eh u remember how...|    81|\n",
            "|  ham|Fine if thats th...|    56|\n",
            "| spam|England v Macedon...|   155|\n",
            "+-----+--------------------+------+\n",
            "only showing top 20 rows\n",
            "\n"
          ]
        }
      ]
    },
    {
      "cell_type": "markdown",
      "id": "692e37a6",
      "metadata": {
        "id": "692e37a6"
      },
      "source": [
        "### Get the average text length for each class (give alias name to the average length column)"
      ]
    },
    {
      "cell_type": "code",
      "source": [
        "df_3 = df_2.groupBy('class').agg(F.avg(F.col('length')).alias('Avg_Length'))\n",
        "df_3.show()"
      ],
      "metadata": {
        "colab": {
          "base_uri": "https://localhost:8080/"
        },
        "id": "g1aeKcURmtLP",
        "outputId": "aa298d24-26f9-498c-d96f-bf1e46e1e3a5"
      },
      "id": "g1aeKcURmtLP",
      "execution_count": null,
      "outputs": [
        {
          "output_type": "stream",
          "name": "stdout",
          "text": [
            "+-----+-----------------+\n",
            "|class|       Avg_Length|\n",
            "+-----+-----------------+\n",
            "|  ham|71.45431945307645|\n",
            "| spam|138.6706827309237|\n",
            "+-----+-----------------+\n",
            "\n"
          ]
        }
      ]
    },
    {
      "cell_type": "markdown",
      "id": "d5e101af",
      "metadata": {
        "id": "d5e101af"
      },
      "source": [
        "## Feature Transformations"
      ]
    },
    {
      "cell_type": "markdown",
      "id": "838ad9dd",
      "metadata": {
        "id": "838ad9dd"
      },
      "source": [
        "### In this part you transform you raw text in to tf_idf model :\n",
        "- For more information about TF-IDF check the following link: <b>(Not needed for the test)</b>\n",
        "https://en.wikipedia.org/wiki/Tf%E2%80%93idf"
      ]
    },
    {
      "cell_type": "markdown",
      "id": "225067d5",
      "metadata": {
        "id": "225067d5"
      },
      "source": [
        "### Perform the following steps to obtain TF-IDF:\n",
        "1. Import the required transformers/estimators for the subsequent steps.\n",
        "2. Create a <b>Tokenizer</b> from the text column.\n",
        "3. Create a <b>StopWordsRemover</b> to remove the <b>stop words</b> from the column obtained from the <b>Tokenizer</b>.\n",
        "4. Create a <b>CountVectorizer</b> after removing the <b>stop words</b>.\n",
        "5. Create the <b>TF-IDF</b> from the <b>CountVectorizer</b>."
      ]
    },
    {
      "cell_type": "code",
      "execution_count": null,
      "id": "6a4eebf8",
      "metadata": {
        "id": "6a4eebf8"
      },
      "outputs": [],
      "source": [
        "from pyspark.ml.feature import HashingTF, IDF, Tokenizer, StopWordsRemover, CountVectorizer, StringIndexer, VectorAssembler"
      ]
    },
    {
      "cell_type": "code",
      "source": [
        "tokenizer = Tokenizer(inputCol=\"text\", outputCol=\"text_tok\")"
      ],
      "metadata": {
        "id": "cfD31ZOXnn8Q"
      },
      "id": "cfD31ZOXnn8Q",
      "execution_count": null,
      "outputs": []
    },
    {
      "cell_type": "code",
      "execution_count": null,
      "id": "b82756db",
      "metadata": {
        "id": "b82756db"
      },
      "outputs": [],
      "source": [
        "stopWordsRemover = StopWordsRemover(inputCol=\"text_tok\", outputCol=\"text_stopword\")"
      ]
    },
    {
      "cell_type": "code",
      "source": [
        "countVectorizer = CountVectorizer(inputCol=\"text_stopword\", outputCol=\"text_cv\")"
      ],
      "metadata": {
        "id": "QbzOCoT4pWhA"
      },
      "id": "QbzOCoT4pWhA",
      "execution_count": null,
      "outputs": []
    },
    {
      "cell_type": "code",
      "source": [
        "tf_idf = IDF(inputCol=\"text_cv\", outputCol=\"text_tf_idf\")"
      ],
      "metadata": {
        "id": "SQpE9DjXqvZK"
      },
      "id": "SQpE9DjXqvZK",
      "execution_count": null,
      "outputs": []
    },
    {
      "cell_type": "markdown",
      "id": "1527ad65",
      "metadata": {
        "id": "1527ad65"
      },
      "source": [
        "- Convert the <b>class column</b> to index using <b>StringIndexer</b>\n",
        "- Create feature column from the <b>TF-IDF</b> and <b>lenght</b> columns."
      ]
    },
    {
      "cell_type": "code",
      "execution_count": null,
      "id": "aaf46159",
      "metadata": {
        "id": "aaf46159"
      },
      "outputs": [],
      "source": [
        "#Convert the class column to index using StringIndexer\n",
        "indexer = StringIndexer(inputCol=\"class\", outputCol=\"classIndex\",handleInvalid='skip') "
      ]
    },
    {
      "cell_type": "code",
      "execution_count": null,
      "id": "ad9d4c52",
      "metadata": {
        "id": "ad9d4c52"
      },
      "outputs": [],
      "source": [
        "vecAssembler = VectorAssembler(inputCols=['text_tf_idf','length'],outputCol='features')"
      ]
    },
    {
      "cell_type": "markdown",
      "id": "9775d494",
      "metadata": {
        "id": "9775d494"
      },
      "source": [
        "## The Model\n",
        "- Create a <b>NaiveBayes</b> classifier with the default parameters."
      ]
    },
    {
      "cell_type": "code",
      "execution_count": null,
      "id": "57af0d5d",
      "metadata": {
        "id": "57af0d5d"
      },
      "outputs": [],
      "source": [
        "from pyspark.ml.classification import NaiveBayes\n",
        "from pyspark.ml.evaluation import MulticlassClassificationEvaluator\n",
        "from pyspark.mllib.evaluation import BinaryClassificationMetrics"
      ]
    },
    {
      "cell_type": "code",
      "execution_count": null,
      "id": "54c7384e",
      "metadata": {
        "id": "54c7384e"
      },
      "outputs": [],
      "source": [
        "naiveclassifier = NaiveBayes(featuresCol='features',labelCol='classIndex',predictionCol='prediction')"
      ]
    },
    {
      "cell_type": "markdown",
      "id": "dc14de63",
      "metadata": {
        "id": "dc14de63"
      },
      "source": [
        "## Pipeline\n",
        "### Create a pipeline model contains all the steps starting from the Tokenizer to the NaiveBays classifier."
      ]
    },
    {
      "cell_type": "code",
      "execution_count": null,
      "id": "8ee0d1ca",
      "metadata": {
        "id": "8ee0d1ca"
      },
      "outputs": [],
      "source": [
        "stages = [tokenizer, stopWordsRemover, countVectorizer, tf_idf, indexer, vecAssembler, naiveclassifier]"
      ]
    },
    {
      "cell_type": "code",
      "execution_count": null,
      "id": "7f82bab0",
      "metadata": {
        "id": "7f82bab0"
      },
      "outputs": [],
      "source": [
        "from pyspark.ml import Pipeline\n",
        "pl = Pipeline(stages=stages)"
      ]
    },
    {
      "cell_type": "markdown",
      "id": "f5d7efbe",
      "metadata": {
        "id": "f5d7efbe"
      },
      "source": [
        "### Split your data to trian and test data with ratios 0.7 and 0.3 respectively."
      ]
    },
    {
      "cell_type": "code",
      "execution_count": null,
      "id": "2843d997",
      "metadata": {
        "id": "2843d997"
      },
      "outputs": [],
      "source": [
        "trainDF, testDF = df_2.randomSplit([0.7,0.3],seed=42)"
      ]
    },
    {
      "cell_type": "markdown",
      "id": "8bcea576",
      "metadata": {
        "id": "8bcea576"
      },
      "source": [
        "### Fit your Pipeline model to the training data"
      ]
    },
    {
      "cell_type": "code",
      "execution_count": null,
      "id": "3c5d4681",
      "metadata": {
        "id": "3c5d4681"
      },
      "outputs": [],
      "source": [
        "pl_Model = pl.fit(trainDF)"
      ]
    },
    {
      "cell_type": "markdown",
      "id": "228a3eb1",
      "metadata": {
        "id": "228a3eb1"
      },
      "source": [
        "### Perform predictions on tests dataframe"
      ]
    },
    {
      "cell_type": "code",
      "execution_count": null,
      "id": "14f4aab5",
      "metadata": {
        "id": "14f4aab5"
      },
      "outputs": [],
      "source": [
        "predDF = pl_Model.transform(testDF)"
      ]
    },
    {
      "cell_type": "markdown",
      "id": "bce2885f",
      "metadata": {
        "id": "bce2885f"
      },
      "source": [
        "### Print the schema of the prediction dataframe"
      ]
    },
    {
      "cell_type": "code",
      "source": [
        "predDF.printSchema()"
      ],
      "metadata": {
        "colab": {
          "base_uri": "https://localhost:8080/"
        },
        "id": "i25jAknswABI",
        "outputId": "221399f3-9c8d-43e6-abea-bd327cf2e8cc"
      },
      "id": "i25jAknswABI",
      "execution_count": null,
      "outputs": [
        {
          "output_type": "stream",
          "name": "stdout",
          "text": [
            "root\n",
            " |-- class: string (nullable = true)\n",
            " |-- text: string (nullable = true)\n",
            " |-- length: integer (nullable = true)\n",
            " |-- text_tok: array (nullable = true)\n",
            " |    |-- element: string (containsNull = true)\n",
            " |-- text_stopword: array (nullable = true)\n",
            " |    |-- element: string (containsNull = true)\n",
            " |-- text_cv: vector (nullable = true)\n",
            " |-- text_tf_idf: vector (nullable = true)\n",
            " |-- classIndex: double (nullable = false)\n",
            " |-- features: vector (nullable = true)\n",
            " |-- rawPrediction: vector (nullable = true)\n",
            " |-- probability: vector (nullable = true)\n",
            " |-- prediction: double (nullable = false)\n",
            "\n"
          ]
        }
      ]
    },
    {
      "cell_type": "markdown",
      "id": "57f27055",
      "metadata": {
        "id": "57f27055"
      },
      "source": [
        "## Model Evaluation\n",
        "- Use <b>MulticlassClassificationEvaluator</b> to calculate the <b>f1_score</b>."
      ]
    },
    {
      "cell_type": "code",
      "source": [
        "# compute accuracy on the test set\n",
        "evaluator = MulticlassClassificationEvaluator(labelCol=\"classIndex\", predictionCol=\"prediction\",\n",
        "                                              metricName='fMeasureByLabel')\n",
        "f_1 = evaluator.evaluate(predDF)\n",
        "print(\"Test set accuracy = \" + str(f_1))"
      ],
      "metadata": {
        "colab": {
          "base_uri": "https://localhost:8080/"
        },
        "id": "XNpc7bDPy0Ik",
        "outputId": "f38c2f88-c6bc-4fd6-b836-67613804207f"
      },
      "id": "XNpc7bDPy0Ik",
      "execution_count": null,
      "outputs": [
        {
          "output_type": "stream",
          "name": "stdout",
          "text": [
            "Test set accuracy = 0.9839883551673945\n"
          ]
        }
      ]
    },
    {
      "cell_type": "code",
      "execution_count": null,
      "id": "be706565",
      "metadata": {
        "id": "be706565"
      },
      "outputs": [],
      "source": [
        "# from sklearn.metrics import f1_score\n",
        "# print(\"sklearn F1 Score evaluator : \", f1_score(predDF.select('classIndex').toPandas(), predDF.select('prediction').toPandas()))"
      ]
    },
    {
      "cell_type": "code",
      "execution_count": null,
      "id": "af1f9ba1",
      "metadata": {
        "id": "af1f9ba1",
        "outputId": "9f258f76-3c75-4e40-f56b-dd979f97435f"
      },
      "outputs": [
        {
          "name": "stdout",
          "output_type": "stream",
          "text": [
            "f1_score is: 0.9664707489549014\n"
          ]
        }
      ],
      "source": [
        ""
      ]
    },
    {
      "cell_type": "markdown",
      "id": "e00e7b53",
      "metadata": {
        "id": "e00e7b53"
      },
      "source": [
        "# GOOD LUCK\n"
      ]
    }
  ],
  "metadata": {
    "kernelspec": {
      "display_name": "Python 3",
      "language": "python",
      "name": "python3"
    },
    "language_info": {
      "codemirror_mode": {
        "name": "ipython",
        "version": 3
      },
      "file_extension": ".py",
      "mimetype": "text/x-python",
      "name": "python",
      "nbconvert_exporter": "python",
      "pygments_lexer": "ipython3",
      "version": "3.8.8"
    },
    "colab": {
      "name": "NLP_Spam _Filter_Using_PySpark.ipynb",
      "provenance": [],
      "collapsed_sections": [
        "838ad9dd",
        "228a3eb1"
      ],
      "include_colab_link": true
    }
  },
  "nbformat": 4,
  "nbformat_minor": 5
}