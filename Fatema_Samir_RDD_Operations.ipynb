{
  "cells": [
    {
      "cell_type": "markdown",
      "metadata": {
        "id": "view-in-github",
        "colab_type": "text"
      },
      "source": [
        "<a href=\"https://colab.research.google.com/github/FatemaSamir/pyspark/blob/main/Fatema_Samir_RDD_Operations.ipynb\" target=\"_parent\"><img src=\"https://colab.research.google.com/assets/colab-badge.svg\" alt=\"Open In Colab\"/></a>"
      ]
    },
    {
      "cell_type": "code",
      "source": [
        "!pip install pyspark"
      ],
      "metadata": {
        "colab": {
          "base_uri": "https://localhost:8080/"
        },
        "id": "c-6HoSdS79p6",
        "outputId": "16bada0c-c655-43af-bccc-7c07c6b620af"
      },
      "id": "c-6HoSdS79p6",
      "execution_count": 2,
      "outputs": [
        {
          "output_type": "stream",
          "name": "stdout",
          "text": [
            "Looking in indexes: https://pypi.org/simple, https://us-python.pkg.dev/colab-wheels/public/simple/\n",
            "Collecting pyspark\n",
            "  Downloading pyspark-3.2.1.tar.gz (281.4 MB)\n",
            "\u001b[K     |████████████████████████████████| 281.4 MB 31 kB/s \n",
            "\u001b[?25hCollecting py4j==0.10.9.3\n",
            "  Downloading py4j-0.10.9.3-py2.py3-none-any.whl (198 kB)\n",
            "\u001b[K     |████████████████████████████████| 198 kB 62.4 MB/s \n",
            "\u001b[?25hBuilding wheels for collected packages: pyspark\n",
            "  Building wheel for pyspark (setup.py) ... \u001b[?25l\u001b[?25hdone\n",
            "  Created wheel for pyspark: filename=pyspark-3.2.1-py2.py3-none-any.whl size=281853642 sha256=0ae4e0104716b9cb07ac827c630f68fa8f0a96b698a017b2d4a59451e7be3c5b\n",
            "  Stored in directory: /root/.cache/pip/wheels/9f/f5/07/7cd8017084dce4e93e84e92efd1e1d5334db05f2e83bcef74f\n",
            "Successfully built pyspark\n",
            "Installing collected packages: py4j, pyspark\n",
            "Successfully installed py4j-0.10.9.3 pyspark-3.2.1\n"
          ]
        }
      ]
    },
    {
      "cell_type": "code",
      "source": [
        "from google.colab import drive\n",
        "drive.mount('/content/gdrive')"
      ],
      "metadata": {
        "colab": {
          "base_uri": "https://localhost:8080/"
        },
        "id": "mierWYMw8k_d",
        "outputId": "62106336-f4ff-40bf-e64d-5bc2010bcc03"
      },
      "id": "mierWYMw8k_d",
      "execution_count": 6,
      "outputs": [
        {
          "output_type": "stream",
          "name": "stdout",
          "text": [
            "Mounted at /content/gdrive\n"
          ]
        }
      ]
    },
    {
      "cell_type": "markdown",
      "id": "2568221b",
      "metadata": {
        "id": "2568221b"
      },
      "source": [
        "### Import the required libraries then Create SparkContext"
      ]
    },
    {
      "cell_type": "code",
      "execution_count": 3,
      "id": "65e6978c",
      "metadata": {
        "id": "65e6978c"
      },
      "outputs": [],
      "source": [
        "from pyspark.sql import SparkSession \n",
        "spark = SparkSession.builder.getOrCreate() # intery point\n",
        "sc = spark.sparkContext # to craet spark context from spark"
      ]
    },
    {
      "cell_type": "markdown",
      "id": "e9a7d9c6",
      "metadata": {
        "id": "e9a7d9c6"
      },
      "source": [
        "### Create and display an RDD from the following list"
      ]
    },
    {
      "cell_type": "code",
      "execution_count": 4,
      "id": "409084ef",
      "metadata": {
        "id": "409084ef"
      },
      "outputs": [],
      "source": [
        "lt = [('JK', 22), ('V', 24), ('Jimin',24), ('RM', 25), ('J-Hope', 25), ('Suga', 26), ('Jin', 27)]"
      ]
    },
    {
      "cell_type": "code",
      "source": [
        "rdd = sc.parallelize(lt)\n",
        "rdd.collect()"
      ],
      "metadata": {
        "colab": {
          "base_uri": "https://localhost:8080/"
        },
        "id": "k4J1zQnB8Frm",
        "outputId": "afc49aae-e5d1-4954-e2e9-7374244b8e23"
      },
      "id": "k4J1zQnB8Frm",
      "execution_count": 5,
      "outputs": [
        {
          "output_type": "execute_result",
          "data": {
            "text/plain": [
              "[('JK', 22),\n",
              " ('V', 24),\n",
              " ('Jimin', 24),\n",
              " ('RM', 25),\n",
              " ('J-Hope', 25),\n",
              " ('Suga', 26),\n",
              " ('Jin', 27)]"
            ]
          },
          "metadata": {},
          "execution_count": 5
        }
      ]
    },
    {
      "cell_type": "markdown",
      "id": "feedfb38",
      "metadata": {
        "id": "feedfb38"
      },
      "source": [
        "### Read sample1.txt file into RDD and displaying the first 4 elements"
      ]
    },
    {
      "cell_type": "code",
      "source": [
        "rdd_test = sc.textFile('/content/gdrive/MyDrive/Pyspark/sample1.txt')\n",
        "rdd_test.take(4)"
      ],
      "metadata": {
        "colab": {
          "base_uri": "https://localhost:8080/"
        },
        "id": "5qL9mbtU9wmy",
        "outputId": "6fcd8a7d-2b16-416a-a040-83e673cf2ba1"
      },
      "id": "5qL9mbtU9wmy",
      "execution_count": 17,
      "outputs": [
        {
          "output_type": "execute_result",
          "data": {
            "text/plain": [
              "['Utilitatis causa amicitia est quaesita.',\n",
              " 'Lorem ipsum dolor sit amet, consectetur adipiscing elit. ',\n",
              " 'Collatio igitur ista te nihil iuvat. Honesta oratio, Socratica, Platonis etiam. Primum in nostrane potestate est, quid meminerimus? ',\n",
              " 'Duo Reges: constructio interrete. ']"
            ]
          },
          "metadata": {},
          "execution_count": 17
        }
      ]
    },
    {
      "cell_type": "markdown",
      "id": "e55ae192",
      "metadata": {
        "id": "e55ae192"
      },
      "source": [
        "### Count the total number of rows in RDD"
      ]
    },
    {
      "cell_type": "code",
      "source": [
        "rdd_test.count()"
      ],
      "metadata": {
        "colab": {
          "base_uri": "https://localhost:8080/"
        },
        "id": "S6S0QPd--Faj",
        "outputId": "5ff1af77-ffb0-4134-b843-bf5001ca3205"
      },
      "id": "S6S0QPd--Faj",
      "execution_count": 9,
      "outputs": [
        {
          "output_type": "execute_result",
          "data": {
            "text/plain": [
              "7"
            ]
          },
          "metadata": {},
          "execution_count": 9
        }
      ]
    },
    {
      "cell_type": "markdown",
      "id": "35652e93",
      "metadata": {
        "id": "35652e93"
      },
      "source": [
        "### Create a function to convert the data into lower case and splitting it"
      ]
    },
    {
      "cell_type": "code",
      "source": [
        "rdd_new = rdd_test.map(lambda l : l.lower().split())\n",
        "rdd_new.collect()"
      ],
      "metadata": {
        "colab": {
          "base_uri": "https://localhost:8080/"
        },
        "id": "Z_LlYIDS-NUn",
        "outputId": "ac37b9dd-3fe7-4419-ac54-5b81700b565f"
      },
      "id": "Z_LlYIDS-NUn",
      "execution_count": 18,
      "outputs": [
        {
          "output_type": "execute_result",
          "data": {
            "text/plain": [
              "[['utilitatis', 'causa', 'amicitia', 'est', 'quaesita.'],\n",
              " ['lorem',\n",
              "  'ipsum',\n",
              "  'dolor',\n",
              "  'sit',\n",
              "  'amet,',\n",
              "  'consectetur',\n",
              "  'adipiscing',\n",
              "  'elit.'],\n",
              " ['collatio',\n",
              "  'igitur',\n",
              "  'ista',\n",
              "  'te',\n",
              "  'nihil',\n",
              "  'iuvat.',\n",
              "  'honesta',\n",
              "  'oratio,',\n",
              "  'socratica,',\n",
              "  'platonis',\n",
              "  'etiam.',\n",
              "  'primum',\n",
              "  'in',\n",
              "  'nostrane',\n",
              "  'potestate',\n",
              "  'est,',\n",
              "  'quid',\n",
              "  'meminerimus?'],\n",
              " ['duo', 'reges:', 'constructio', 'interrete.'],\n",
              " ['quid,',\n",
              "  'si',\n",
              "  'etiam',\n",
              "  'iucunda',\n",
              "  'memoria',\n",
              "  'est',\n",
              "  'praeteritorum',\n",
              "  'malorum?',\n",
              "  'si',\n",
              "  'quidem,',\n",
              "  'inquit,',\n",
              "  'tollerem,',\n",
              "  'sed',\n",
              "  'relinquo.',\n",
              "  'an',\n",
              "  'nisi',\n",
              "  'populari',\n",
              "  'fama?'],\n",
              " [],\n",
              " ['quamquam',\n",
              "  'id',\n",
              "  'quidem',\n",
              "  'licebit',\n",
              "  'iis',\n",
              "  'existimare,',\n",
              "  'qui',\n",
              "  'legerint.',\n",
              "  'summum',\n",
              "  'a',\n",
              "  'vobis',\n",
              "  'bonum',\n",
              "  'voluptas',\n",
              "  'dicitur.',\n",
              "  'at',\n",
              "  'hoc',\n",
              "  'in',\n",
              "  'eo',\n",
              "  'm.',\n",
              "  'refert',\n",
              "  'tamen,',\n",
              "  'quo',\n",
              "  'modo.',\n",
              "  'quid',\n",
              "  'sequatur,',\n",
              "  'quid',\n",
              "  'repugnet,',\n",
              "  'vident.',\n",
              "  'iam',\n",
              "  'id',\n",
              "  'ipsum',\n",
              "  'absurdum,',\n",
              "  'maximum',\n",
              "  'malum',\n",
              "  'neglegi.']]"
            ]
          },
          "metadata": {},
          "execution_count": 18
        }
      ]
    },
    {
      "cell_type": "markdown",
      "id": "4cfa29af",
      "metadata": {
        "id": "4cfa29af"
      },
      "source": [
        "### Filter the stopwords from the previous text"
      ]
    },
    {
      "cell_type": "code",
      "execution_count": 20,
      "id": "97c1e731",
      "metadata": {
        "id": "97c1e731"
      },
      "outputs": [],
      "source": [
        "stopwords = ['a','all','the','as','is','am','an','and',\n",
        "             'be','been','from','had','I','I’d','why','with']\n",
        "# Hint: you may need use flatMap"
      ]
    },
    {
      "cell_type": "code",
      "source": [
        "rdd_flat = rdd_test.flatMap(lambda l : l.lower().split()).filter(lambda x: x not in stopwords)\n",
        "rdd_flat.take(10)"
      ],
      "metadata": {
        "colab": {
          "base_uri": "https://localhost:8080/"
        },
        "id": "w4sLM2ME_6f-",
        "outputId": "a652dc1e-e873-43b8-9515-a23f1da31d9c"
      },
      "id": "w4sLM2ME_6f-",
      "execution_count": 26,
      "outputs": [
        {
          "output_type": "execute_result",
          "data": {
            "text/plain": [
              "['utilitatis',\n",
              " 'causa',\n",
              " 'amicitia',\n",
              " 'est',\n",
              " 'quaesita.',\n",
              " 'lorem',\n",
              " 'ipsum',\n",
              " 'dolor',\n",
              " 'sit',\n",
              " 'amet,']"
            ]
          },
          "metadata": {},
          "execution_count": 26
        }
      ]
    },
    {
      "cell_type": "markdown",
      "id": "eb066a90",
      "metadata": {
        "id": "eb066a90"
      },
      "source": [
        "### Filter the words starting with ‘c’"
      ]
    },
    {
      "cell_type": "code",
      "source": [
        "rdd_flat.filter(lambda w: w[0]=='c').collect()"
      ],
      "metadata": {
        "colab": {
          "base_uri": "https://localhost:8080/"
        },
        "id": "PtJGGGIdBTPN",
        "outputId": "07689988-4286-4ef0-a01a-d1ecac14e0bd"
      },
      "id": "PtJGGGIdBTPN",
      "execution_count": 28,
      "outputs": [
        {
          "output_type": "execute_result",
          "data": {
            "text/plain": [
              "['causa', 'consectetur', 'collatio', 'constructio']"
            ]
          },
          "metadata": {},
          "execution_count": 28
        }
      ]
    },
    {
      "cell_type": "code",
      "execution_count": null,
      "id": "7f39a4b8",
      "metadata": {
        "id": "7f39a4b8",
        "outputId": "667af278-d319-4b71-e8d0-03eacc28bbfd"
      },
      "outputs": [
        {
          "data": {
            "text/plain": [
              "['causa', 'consectetur', 'collatio', 'constructio']"
            ]
          },
          "execution_count": 30,
          "metadata": {},
          "output_type": "execute_result"
        }
      ],
      "source": [
        ""
      ]
    },
    {
      "cell_type": "markdown",
      "id": "eba39e2e",
      "metadata": {
        "id": "eba39e2e"
      },
      "source": [
        "### Reduce the data by key and sum it (use the data from the following list)"
      ]
    },
    {
      "cell_type": "code",
      "execution_count": 29,
      "id": "f26dea46",
      "metadata": {
        "id": "f26dea46"
      },
      "outputs": [],
      "source": [
        "list = [('JK', 22), ('V', 24), ('Jimin',24), ('RM', 25)\n",
        "        , ('J-Hope', 25), ('Suga', 26), ('Jin', 27)\n",
        "       , ('J-Hope', 12), ('Suga', 25), ('Jin', 34)\n",
        "       , ('JK', 32), ('V', 44), ('Jimin',14), ('RM', 35)]\n",
        "# Hint: use reduceByKey"
      ]
    },
    {
      "cell_type": "code",
      "source": [
        "RDD = sc.parallelize(list)"
      ],
      "metadata": {
        "id": "AkVoci1DB4Gw"
      },
      "id": "AkVoci1DB4Gw",
      "execution_count": 30,
      "outputs": []
    },
    {
      "cell_type": "code",
      "source": [
        "from operator import add # sum operation\n",
        "RDD.reduceByKey(add).collect()"
      ],
      "metadata": {
        "colab": {
          "base_uri": "https://localhost:8080/"
        },
        "id": "wBU-3PsTCeE9",
        "outputId": "55ebd85d-7c1d-418d-8561-9dd679d2fcf4"
      },
      "id": "wBU-3PsTCeE9",
      "execution_count": 34,
      "outputs": [
        {
          "output_type": "execute_result",
          "data": {
            "text/plain": [
              "[('Suga', 51),\n",
              " ('Jin', 61),\n",
              " ('JK', 54),\n",
              " ('V', 68),\n",
              " ('Jimin', 38),\n",
              " ('RM', 60),\n",
              " ('J-Hope', 37)]"
            ]
          },
          "metadata": {},
          "execution_count": 34
        }
      ]
    },
    {
      "cell_type": "code",
      "execution_count": null,
      "id": "ae551b82",
      "metadata": {
        "id": "ae551b82",
        "outputId": "34897869-8f8e-4bee-f152-4069eb0b402d"
      },
      "outputs": [
        {
          "data": {
            "text/plain": [
              "[('Suga', 51),\n",
              " ('Jin', 61),\n",
              " ('JK', 54),\n",
              " ('V', 68),\n",
              " ('Jimin', 38),\n",
              " ('RM', 60),\n",
              " ('J-Hope', 37)]"
            ]
          },
          "execution_count": 25,
          "metadata": {},
          "output_type": "execute_result"
        }
      ],
      "source": [
        ""
      ]
    },
    {
      "cell_type": "markdown",
      "id": "a4587230",
      "metadata": {
        "id": "a4587230"
      },
      "source": [
        "### Creat some key value pairs RDDs"
      ]
    },
    {
      "cell_type": "code",
      "execution_count": 35,
      "id": "cfb446ee",
      "metadata": {
        "id": "cfb446ee"
      },
      "outputs": [],
      "source": [
        "rdd1 = sc.parallelize([('a',2),('b',3)])\n",
        "rdd2 = sc.parallelize([('a',9),('b',7),('c',10)])"
      ]
    },
    {
      "cell_type": "code",
      "source": [
        "rdd2.collect()"
      ],
      "metadata": {
        "colab": {
          "base_uri": "https://localhost:8080/"
        },
        "id": "b9cDiw7IDH5P",
        "outputId": "e5f84f9c-8310-4f60-ac7a-3fa81b43715c"
      },
      "id": "b9cDiw7IDH5P",
      "execution_count": 36,
      "outputs": [
        {
          "output_type": "execute_result",
          "data": {
            "text/plain": [
              "[('a', 9), ('b', 7), ('c', 10)]"
            ]
          },
          "metadata": {},
          "execution_count": 36
        }
      ]
    },
    {
      "cell_type": "markdown",
      "id": "98ec3168",
      "metadata": {
        "id": "98ec3168"
      },
      "source": [
        "### Perform Join operation on the RDDs (rdd1,rdd2)"
      ]
    },
    {
      "cell_type": "code",
      "execution_count": 37,
      "id": "5fc98e9f",
      "metadata": {
        "id": "5fc98e9f",
        "colab": {
          "base_uri": "https://localhost:8080/"
        },
        "outputId": "fc402ab5-8f1f-4a67-a329-6339d0b9343d"
      },
      "outputs": [
        {
          "output_type": "execute_result",
          "data": {
            "text/plain": [
              "[('b', (3, 7)), ('a', (2, 9))]"
            ]
          },
          "metadata": {},
          "execution_count": 37
        }
      ],
      "source": [
        "rdd1.join(rdd2).collect()"
      ]
    },
    {
      "cell_type": "code",
      "execution_count": null,
      "id": "c61b5926",
      "metadata": {
        "id": "c61b5926",
        "outputId": "395f64e5-cf19-412a-cb45-96c7845df70e"
      },
      "outputs": [
        {
          "data": {
            "text/plain": [
              "[('b', (3, 7)), ('a', (2, 9))]"
            ]
          },
          "execution_count": 33,
          "metadata": {},
          "output_type": "execute_result"
        }
      ],
      "source": [
        ""
      ]
    }
  ],
  "metadata": {
    "kernelspec": {
      "display_name": "Python 3",
      "language": "python",
      "name": "python3"
    },
    "language_info": {
      "codemirror_mode": {
        "name": "ipython",
        "version": 3
      },
      "file_extension": ".py",
      "mimetype": "text/x-python",
      "name": "python",
      "nbconvert_exporter": "python",
      "pygments_lexer": "ipython3",
      "version": "3.8.8"
    },
    "colab": {
      "name": "Fatema_Samir_RDD_Operations.ipynb",
      "provenance": [],
      "include_colab_link": true
    }
  },
  "nbformat": 4,
  "nbformat_minor": 5
}